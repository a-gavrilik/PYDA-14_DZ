{
 "cells": [
  {
   "cell_type": "markdown",
   "metadata": {},
   "source": [
    "# Задание 1\n",
    "\n",
    "Скачайте с сайта https://grouplens.org/datasets/movielens/ датасет любого размера.\n",
    "\n",
    "Определите какому фильму было выставлено больше всего оценок 5.0.\n",
    "\n",
    "\n",
    "\n"
   ]
  },
  {
   "cell_type": "code",
   "execution_count": null,
   "metadata": {},
   "outputs": [],
   "source": [
    "import pandas as pd"
   ]
  },
  {
   "cell_type": "code",
   "execution_count": 85,
   "metadata": {},
   "outputs": [
    {
     "data": {
      "text/plain": [
       "Shawshank Redemption, The (1994)    153\n",
       "Name: title, dtype: int64"
      ]
     },
     "execution_count": 85,
     "metadata": {},
     "output_type": "execute_result"
    }
   ],
   "source": [
    "path = '/Users/a.gavrilik/Desktop/Data Analytics/PYDA-14_DZ/12-biblioteka_pandas/ml-latest-small/'\n",
    "\n",
    "# Объединенная таблица rating_5, которая включает ratings.csv + movies.csv\n",
    "rating_5 = pd.read_csv(path + 'ratings.csv').merge(pd.read_csv(path + 'movies.csv'), on = 'movieId')\n",
    "\n",
    "# Достаем из rating_5 столбцы с названием фильма и рейтингом. Перезаписываем rating_5\n",
    "rating_5 = rating_5[['title', 'rating']]\n",
    "\n",
    "# Достаем из rating_5 строки, где в столбце rating стоит 5.0. Перезаписываем rating_5\n",
    "rating_5 = rating_5[rating_5.rating == 5.0]\n",
    "\n",
    "# Считаем сколько раз каждый фильм (столбец title) встретился в rating_5. Выводим первую строку.\n",
    "rating_5['title'].value_counts().head(1)"
   ]
  },
  {
   "cell_type": "markdown",
   "metadata": {},
   "source": [
    "# Задание 2\n",
    "\n",
    "По данным файла power.csv посчитайте суммарное потребление стран Прибалтики (Латвия, Литва и Эстония) категорий 4, 12 и 21 за период с 2005 по 2010 года. \n",
    "\n",
    "Не учитывайте в расчетах отрицательные значения quantity."
   ]
  },
  {
   "cell_type": "code",
   "execution_count": 132,
   "metadata": {},
   "outputs": [
    {
     "data": {
      "text/plain": [
       "240481.0"
      ]
     },
     "execution_count": 132,
     "metadata": {},
     "output_type": "execute_result"
    }
   ],
   "source": [
    "path = '/Users/a.gavrilik/Desktop/Data Analytics/PYDA-14_DZ/12-biblioteka_pandas/10._Основы_pandas/'\n",
    "\n",
    "pribalt = pd.read_csv(path + 'power.csv')\n",
    "\n",
    "# Доставем из pribalt строки, где country == Estonia|Lithuania|Latvia. Перезаписываем pribalt\n",
    "pribalt = pribalt[(pribalt.country == 'Estonia') | (pribalt.country == 'Lithuania') | (pribalt.country == 'Latvia')]\n",
    "\n",
    "# Доставем из pribalt строки, где category == 4|12|21. Перезаписываем pribalt\n",
    "pribalt = pribalt[(pribalt.category == 4) | (pribalt.category == 12) | (pribalt.category == 21)]\n",
    "\n",
    "# Доставем из pribalt строки, где 2005 <= year <= 2010. Перезаписываем pribalt\n",
    "pribalt = pribalt[(pribalt.year >= 2005) & (pribalt.year <= 2010)]\n",
    "\n",
    "# Считаем суммарное потребление стран Прибалтики по столбцу quantity\n",
    "pribalt.quantity.sum()\n"
   ]
  },
  {
   "cell_type": "markdown",
   "metadata": {},
   "source": [
    "# Задание 3\n",
    "\n",
    "Выберите страницу любого сайта с табличными данными. Импортируйте таблицы в pandas dataframe.\n",
    "\n",
    "Примеры страниц (необязательно брать именно эти):\n",
    "\n",
    "https://fortrader.org/quotes\n",
    "\n",
    "https://www.finanz.ru/valyuty/v-realnom-vremeni"
   ]
  },
  {
   "cell_type": "code",
   "execution_count": 178,
   "metadata": {},
   "outputs": [
    {
     "data": {
      "text/html": [
       "<div>\n",
       "<style scoped>\n",
       "    .dataframe tbody tr th:only-of-type {\n",
       "        vertical-align: middle;\n",
       "    }\n",
       "\n",
       "    .dataframe tbody tr th {\n",
       "        vertical-align: top;\n",
       "    }\n",
       "\n",
       "    .dataframe thead th {\n",
       "        text-align: right;\n",
       "    }\n",
       "</style>\n",
       "<table border=\"1\" class=\"dataframe\">\n",
       "  <thead>\n",
       "    <tr style=\"text-align: right;\">\n",
       "      <th></th>\n",
       "      <th>Имя</th>\n",
       "      <th>Unnamed: 1</th>\n",
       "      <th>%</th>\n",
       "      <th>курс</th>\n",
       "      <th>Дата</th>\n",
       "    </tr>\n",
       "  </thead>\n",
       "  <tbody>\n",
       "    <tr>\n",
       "      <th>0</th>\n",
       "      <td>EUR/RUB</td>\n",
       "      <td>NaN</td>\n",
       "      <td>2729</td>\n",
       "      <td>91506</td>\n",
       "      <td>15.10.2020 16:38:00</td>\n",
       "    </tr>\n",
       "    <tr>\n",
       "      <th>1</th>\n",
       "      <td>USD/RUB</td>\n",
       "      <td>NaN</td>\n",
       "      <td>7089</td>\n",
       "      <td>78232</td>\n",
       "      <td>15.10.2020 16:38:00</td>\n",
       "    </tr>\n",
       "    <tr>\n",
       "      <th>2</th>\n",
       "      <td>CHF/RUB</td>\n",
       "      <td>NaN</td>\n",
       "      <td>577</td>\n",
       "      <td>855463</td>\n",
       "      <td>15.10.2020 16:39:00</td>\n",
       "    </tr>\n",
       "    <tr>\n",
       "      <th>3</th>\n",
       "      <td>JPY/RUB</td>\n",
       "      <td>NaN</td>\n",
       "      <td>5551</td>\n",
       "      <td>7431</td>\n",
       "      <td>15.10.2020 16:39:00</td>\n",
       "    </tr>\n",
       "    <tr>\n",
       "      <th>4</th>\n",
       "      <td>GBP/RUB</td>\n",
       "      <td>NaN</td>\n",
       "      <td>-215</td>\n",
       "      <td>1011037</td>\n",
       "      <td>15.10.2020 16:39:00</td>\n",
       "    </tr>\n",
       "    <tr>\n",
       "      <th>5</th>\n",
       "      <td>NOK/RUB</td>\n",
       "      <td>NaN</td>\n",
       "      <td>-7904</td>\n",
       "      <td>83404</td>\n",
       "      <td>15.10.2020 16:38:00</td>\n",
       "    </tr>\n",
       "    <tr>\n",
       "      <th>6</th>\n",
       "      <td>AUD/RUB</td>\n",
       "      <td>NaN</td>\n",
       "      <td>-6865</td>\n",
       "      <td>552919</td>\n",
       "      <td>15.10.2020 16:38:00</td>\n",
       "    </tr>\n",
       "    <tr>\n",
       "      <th>7</th>\n",
       "      <td>NZD/RUB</td>\n",
       "      <td>NaN</td>\n",
       "      <td>-4745</td>\n",
       "      <td>515057</td>\n",
       "      <td>15.10.2020 16:38:00</td>\n",
       "    </tr>\n",
       "    <tr>\n",
       "      <th>8</th>\n",
       "      <td>TRY/RUB</td>\n",
       "      <td>NaN</td>\n",
       "      <td>2609</td>\n",
       "      <td>98468</td>\n",
       "      <td>15.10.2020 16:38:00</td>\n",
       "    </tr>\n",
       "  </tbody>\n",
       "</table>\n",
       "</div>"
      ],
      "text/plain": [
       "       Имя  Unnamed: 1     %     курс                 Дата\n",
       "0  EUR/RUB         NaN  2729    91506  15.10.2020 16:38:00\n",
       "1  USD/RUB         NaN  7089    78232  15.10.2020 16:38:00\n",
       "2  CHF/RUB         NaN   577   855463  15.10.2020 16:39:00\n",
       "3  JPY/RUB         NaN  5551     7431  15.10.2020 16:39:00\n",
       "4  GBP/RUB         NaN  -215  1011037  15.10.2020 16:39:00\n",
       "5  NOK/RUB         NaN -7904    83404  15.10.2020 16:38:00\n",
       "6  AUD/RUB         NaN -6865   552919  15.10.2020 16:38:00\n",
       "7  NZD/RUB         NaN -4745   515057  15.10.2020 16:38:00\n",
       "8  TRY/RUB         NaN  2609    98468  15.10.2020 16:38:00"
      ]
     },
     "execution_count": 178,
     "metadata": {},
     "output_type": "execute_result"
    }
   ],
   "source": [
    "page_url = 'https://www.finanz.ru/valyuty/usd-rub'\n",
    "\n",
    "table = pd.read_html(page_url, attrs = {'class': 'news_table'}, encoding='utf-8')\n",
    "\n",
    "df = pd.DataFrame(table[1])\n",
    "\n",
    "df"
   ]
  }
 ],
 "metadata": {
  "kernelspec": {
   "display_name": "Python 3",
   "language": "python",
   "name": "python3"
  },
  "language_info": {
   "codemirror_mode": {
    "name": "ipython",
    "version": 3
   },
   "file_extension": ".py",
   "mimetype": "text/x-python",
   "name": "python",
   "nbconvert_exporter": "python",
   "pygments_lexer": "ipython3",
   "version": "3.8.3"
  }
 },
 "nbformat": 4,
 "nbformat_minor": 4
}
