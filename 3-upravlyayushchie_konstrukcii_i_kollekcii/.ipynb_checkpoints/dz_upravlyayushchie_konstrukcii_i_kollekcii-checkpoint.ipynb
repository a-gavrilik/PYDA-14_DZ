{
 "cells": [
  {
   "cell_type": "markdown",
   "metadata": {},
   "source": [
    "## Задание 1"
   ]
  },
  {
   "cell_type": "code",
   "execution_count": 1,
   "metadata": {},
   "outputs": [
    {
     "name": "stdout",
     "output_type": "stream",
     "text": [
      "Введите слово: sdasd\n",
      "a\n"
     ]
    }
   ],
   "source": [
    "word = input('Введите слово: ')\n",
    "if len(word) % 2 == 0:\n",
    "   a = int(len(word) / 2)\n",
    "   print(word[a - 1:a + 1])\n",
    "elif len(word) % 2 != 0:\n",
    "    a = len(word) // 2\n",
    "    print(word[a])"
   ]
  },
  {
   "cell_type": "markdown",
   "metadata": {},
   "source": [
    "## Задание 2"
   ]
  },
  {
   "cell_type": "code",
   "execution_count": 2,
   "metadata": {},
   "outputs": [
    {
     "name": "stdout",
     "output_type": "stream",
     "text": [
      "Введите число: 3\n",
      "Введите число: 4\n",
      "Введите число: 4\n",
      "Введите число: 5\n",
      "Введите число: 6\n",
      "Введите число: 7\n",
      "Введите число: 0\n",
      "29\n"
     ]
    }
   ],
   "source": [
    "x = 0\n",
    "y = int(input('Введите число: '))\n",
    "while y != 0:\n",
    "    x += y\n",
    "    y = int(input('Введите число: '))\n",
    "print(x)"
   ]
  },
  {
   "cell_type": "markdown",
   "metadata": {},
   "source": [
    "## Задание 3"
   ]
  },
  {
   "cell_type": "code",
   "execution_count": 3,
   "metadata": {},
   "outputs": [
    {
     "name": "stdout",
     "output_type": "stream",
     "text": [
      "Alex и Emma\n",
      "Arthur и Kate\n",
      "John и Kira\n",
      "Peter и Liza\n",
      "Richard и Trisha\n"
     ]
    }
   ],
   "source": [
    "boys = ['Peter', 'Alex', 'John', 'Arthur', 'Richard']\n",
    "girls = ['Kate', 'Liza', 'Kira', 'Emma', 'Trisha']\n",
    "#boys = ['Peter', 'Alex', 'John', 'Arthur', 'Richard', 'Michael']\n",
    "#girls = ['Kate', 'Liza', 'Kira', 'Emma', 'Trisha']\n",
    "if len(boys) != len(girls):\n",
    "    print('Внимание, кто-то может остаться без пары!')\n",
    "else:\n",
    "    boys = sorted(boys)\n",
    "    girls = sorted(girls)\n",
    "    x = 0\n",
    "    while x != len(boys):\n",
    "        print(boys[x] + ' и ' + girls[x])\n",
    "        x += 1"
   ]
  },
  {
   "cell_type": "markdown",
   "metadata": {},
   "source": [
    "## Задание 4"
   ]
  },
  {
   "cell_type": "code",
   "execution_count": 4,
   "metadata": {},
   "outputs": [
    {
     "name": "stdout",
     "output_type": "stream",
     "text": [
      "Thailand - 57.1651 C\n",
      "Germany - 39.0622 C\n",
      "Russia - 20.9079 C\n",
      "Poland - 35.8222 C\n"
     ]
    }
   ],
   "source": [
    "countries_temperature = [\n",
    "    ['Thailand', [75.2, 77, 78.8, 73.4, 68, 75.2, 77]],\n",
    "    ['Germany', [57.2, 55.4, 59, 59, 53.6]],\n",
    "    ['Russia', [35.6, 37.4, 39.2, 41, 42.8, 39.2, 35.6]],\n",
    "    ['Poland', [50, 50, 53.6, 57.2, 55.4, 55.4]]\n",
    "]\n",
    "x = 0\n",
    "while x != len(countries_temperature):\n",
    "    y = sum(countries_temperature[x][1]) / len(countries_temperature[x][1])\n",
    "    print(countries_temperature[x][0],'-', round(y - 32 / 1.8, 4), 'C')\n",
    "    x += 1"
   ]
  },
  {
   "cell_type": "markdown",
   "metadata": {},
   "source": [
    "## Задание 5"
   ]
  },
  {
   "cell_type": "code",
   "execution_count": 5,
   "metadata": {},
   "outputs": [
    {
     "name": "stdout",
     "output_type": "stream",
     "text": [
      "Сумма просмотров:  93\n",
      "Число уникальных пользователей:  4\n",
      "Cр.значение просмотров/пользователя:  23.25\n"
     ]
    }
   ],
   "source": [
    "stream = [\n",
    "    '2018-01-01,user1,3',\n",
    "    '2018-01-07,user1,4',\n",
    "    '2018-03-29,user1,1',\n",
    "    '2018-04-04,user1,13',\n",
    "    '2018-01-05,user2,7',\n",
    "    '2018-06-14,user3,4',\n",
    "    '2018-07-02,user3,10',\n",
    "    '2018-03-21,user4,19',\n",
    "    '2018-03-22,user4,4',\n",
    "    '2018-04-22,user4,8',\n",
    "    '2018-05-03,user4,9',\n",
    "    '2018-05-11,user4,11',\n",
    "]\n",
    "\n",
    "x = 0\n",
    "suma_prosm = 0\n",
    "unik_user = list()\n",
    "\n",
    "while x != len(stream):\n",
    "    suma_prosm = suma_prosm + int(stream[x].split(',')[2])\n",
    "    if stream[x].split(',')[1] not in unik_user:\n",
    "        unik_user.append(stream[x].split(',')[1])\n",
    "    x += 1\n",
    "       \n",
    "print('Сумма просмотров: ', suma_prosm)\n",
    "print('Число уникальных пользователей: ', len(unik_user))\n",
    "print ('Cр.значение просмотров/пользователя: ', round(suma_prosm / len(unik_user), 2))"
   ]
  },
  {
   "cell_type": "markdown",
   "metadata": {},
   "source": [
    "## Задание 6"
   ]
  },
  {
   "cell_type": "code",
   "execution_count": 6,
   "metadata": {},
   "outputs": [
    {
     "name": "stdout",
     "output_type": "stream",
     "text": [
      "Введите числа: 1 2 3 4 5 6 2 3 4 5\n",
      "Числа, которые встречаютчя более одного раза:  2 3 4 5\n"
     ]
    }
   ],
   "source": [
    "spisok_1 = sorted(input('Введите числа: ').split(' '))\n",
    "spisok_2 = []\n",
    "\n",
    "i = 0\n",
    "while i != len(spisok_1):\n",
    "    if spisok_1.count(spisok_1[i]) > 1:\n",
    "        if spisok_1[i] not in spisok_2:\n",
    "            spisok_2.append(spisok_1[i])\n",
    "    i += 1\n",
    "print ('Числа, которые встречаютчя более одного раза: ', ' '.join(spisok_2))"
   ]
  }
 ],
 "metadata": {
  "kernelspec": {
   "display_name": "Python 3",
   "language": "python",
   "name": "python3"
  },
  "language_info": {
   "codemirror_mode": {
    "name": "ipython",
    "version": 3
   },
   "file_extension": ".py",
   "mimetype": "text/x-python",
   "name": "python",
   "nbconvert_exporter": "python",
   "pygments_lexer": "ipython3",
   "version": "3.8.3"
  }
 },
 "nbformat": 4,
 "nbformat_minor": 4
}
