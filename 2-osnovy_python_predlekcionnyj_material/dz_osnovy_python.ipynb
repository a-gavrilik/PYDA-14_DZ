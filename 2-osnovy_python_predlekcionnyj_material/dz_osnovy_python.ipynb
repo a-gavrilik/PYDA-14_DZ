{
 "cells": [
  {
   "cell_type": "markdown",
   "metadata": {},
   "source": [
    "## Задание 1"
   ]
  },
  {
   "cell_type": "code",
   "execution_count": 1,
   "metadata": {},
   "outputs": [
    {
     "name": "stdout",
     "output_type": "stream",
     "text": [
      "Введите строку 1: sdfsd\n",
      "Введите строку 2: ыва\n",
      "Строка 1 больше строки 2\n"
     ]
    }
   ],
   "source": [
    "phrase_1 = input('Введите строку 1: ')\n",
    "phrase_2 = input('Введите строку 2: ')\n",
    "if len(phrase_1) > len(phrase_2):\n",
    "    print('Строка 1 больше строки 2')\n",
    "elif len(phrase_1) < len(phrase_2):\n",
    "    print('Строка 1 меньше строки 2')\n",
    "else:\n",
    "    print('Строки равны')"
   ]
  },
  {
   "cell_type": "markdown",
   "metadata": {},
   "source": [
    "## Задание 2"
   ]
  },
  {
   "cell_type": "code",
   "execution_count": 73,
   "metadata": {},
   "outputs": [
    {
     "name": "stdout",
     "output_type": "stream",
     "text": [
      "Введите год: 2020\n",
      "2020  високосный год\n"
     ]
    }
   ],
   "source": [
    "year = int(input('Введите год: '))\n",
    "if (year % 4 == 0 and year % 100 != 0):\n",
    "    print (year, ' високосный год')\n",
    "elif (year % 4 == 0 and year % 100 == 0):\n",
    "    if (year % 100 == 0 and year % 400 == 0):\n",
    "        print(year, ' високосный год')\n",
    "else:\n",
    "    print(year, ' НЕ високосный год')\n",
    " "
   ]
  },
  {
   "cell_type": "markdown",
   "metadata": {},
   "source": [
    "## Задание 3"
   ]
  },
  {
   "cell_type": "code",
   "execution_count": 5,
   "metadata": {},
   "outputs": [
    {
     "name": "stdout",
     "output_type": "stream",
     "text": [
      "Введите день:14\n",
      "Введите месяц: ноябрь\n",
      "Знак зодиака: Скорпион\n"
     ]
    }
   ],
   "source": [
    "day = int(input('Введите день:'))\n",
    "month = input('Введите месяц: ').lower()\n",
    "if (month == 'март' and 21 <= day <= 31) or (month == 'апрель' and 1 <= day <= 20):\n",
    "    print('Знак зодиака: Овен')\n",
    "elif (month == 'апрель' and 21 <= day <= 30) or (month == 'май' and 1 <= day <= 20):\n",
    "    print('Знак зодиака: Телец')\n",
    "elif (month == 'май' and 21 <= day <= 31) or (month == 'июнь' and 1 <= day <= 20):\n",
    "    print('Знак зодиака: Близнецы')\n",
    "elif (month == 'июнь' and 21 <= day <= 30) or (month == 'июль' and 1 <= day <= 22):\n",
    "    print('Знак зодиака: Рак')\n",
    "elif (month == 'июль' and 23 <= day <= 31) or (month == 'август' and 1 <= day <= 22):\n",
    "    print('Знак зодиака: Лев')\n",
    "elif (month == 'август' and 23 <= day <= 31) or (month == 'сентябрь' and 1 <= day <= 23):\n",
    "    print('Знак зодиака: Дева')\n",
    "elif (month == 'сентябрь' and 24 <= day <= 30) or (month == 'октябрь' and 1 <= day <= 23):\n",
    "    print('Знак зодиака: Весы')\n",
    "elif (month == 'октябрь' and 24 <= day <= 31) or (month == 'ноябрь' and 1 <= day <= 21):\n",
    "    print('Знак зодиака: Скорпион')\n",
    "elif (month == 'ноябрь' and 22 <= day <= 30) or (month == 'декабрь' and 1 <= day <= 21):\n",
    "    print('Знак зодиака: Стрелец')\n",
    "elif (month == 'декабрь' and 22 <= day <= 31) or (month == 'январь' and 1 <= day <= 19):\n",
    "    print('Знак зодиака: Козерог')\n",
    "elif (month == 'январь' and 22 <= day <= 31) or (month == 'февраль' and 1 <= day <= 18):\n",
    "    print('Знак зодиака: Водолей')\n",
    "elif (month == 'февраль' and 19 <= day <= 29) or (month == 'март' and 1 <= day <= 20):\n",
    "    print('Знак зодиака: Рыбы')\n",
    "else:\n",
    "    print('Что-то пошло не так!')"
   ]
  },
  {
   "cell_type": "markdown",
   "metadata": {},
   "source": [
    "## Задание 4"
   ]
  },
  {
   "cell_type": "code",
   "execution_count": 7,
   "metadata": {},
   "outputs": [
    {
     "name": "stdout",
     "output_type": "stream",
     "text": [
      "Упаковка для лыж\n"
     ]
    }
   ],
   "source": [
    "width = 45\n",
    "l = 205\n",
    "h = 45\n",
    "if l > 200:\n",
    "    print('Упаковка для лыж')\n",
    "elif (width < 15) and (l < 15) and (h < 15):\n",
    "    print('Коробка №1')\n",
    "elif (15 <= width <= 50) or (15 <= l <= 50) or (15 <= h <= 50):\n",
    "    print('Коробка №2')\n",
    "else:\n",
    "    print('Стандартная коробка №3')"
   ]
  },
  {
   "cell_type": "markdown",
   "metadata": {},
   "source": [
    "## Задание 5"
   ]
  },
  {
   "cell_type": "code",
   "execution_count": 150,
   "metadata": {},
   "outputs": [
    {
     "name": "stdout",
     "output_type": "stream",
     "text": [
      "Билет счастливый\n"
     ]
    }
   ],
   "source": [
    "number = 123321\n",
    "a = int(str(number)[0]) + int(str(number)[1]) + int(str(number)[2])\n",
    "b = int(str(number)[3]) + int(str(number)[4]) + int(str(number)[5])\n",
    "if a == b:\n",
    "    print('Билет счастливый')\n",
    "else:\n",
    "    print('Билет НЕ счастливый')"
   ]
  },
  {
   "cell_type": "markdown",
   "metadata": {},
   "source": [
    "## Задание 6"
   ]
  },
  {
   "cell_type": "code",
   "execution_count": 185,
   "metadata": {},
   "outputs": [
    {
     "name": "stdout",
     "output_type": "stream",
     "text": [
      "Укажите фигуру (круг, треугольник или прямоугольник): sd\n",
      "Что-то пошло не так!\n"
     ]
    }
   ],
   "source": [
    "fig = str(input('Укажите фигуру (круг, треугольник или прямоугольник): '))\n",
    "if fig.lower() == 'круг':\n",
    "    a = int(input('Укажите радиус круга: '))\n",
    "    print('Радиус круга: ', 3.14 * a ** 2)\n",
    "elif fig.lower() == 'треугольник':\n",
    "    a = int(input('Укажите длину стороны a: '))\n",
    "    b = int(input('Укажите длину стороны b: '))\n",
    "    c = int(input('Укажите длину стороны c: '))\n",
    "    p = (a + b + c) / 2\n",
    "    print('Площадь треугольника: ', (p * (p - a) * (p - b) * (p - c)) ** 0.5)\n",
    "elif fig.lower() == 'прямоугольник':\n",
    "    a = int(input('Укажите длину стороны a: '))\n",
    "    b = int(input('Укажите длину стороны b: '))\n",
    "    print('Площадь прямоугольника: ', a * b)\n",
    "else:\n",
    "    print('Что-то пошло не так!')"
   ]
  },
  {
   "cell_type": "code",
   "execution_count": null,
   "metadata": {},
   "outputs": [],
   "source": []
  }
 ],
 "metadata": {
  "kernelspec": {
   "display_name": "Python 3",
   "language": "python",
   "name": "python3"
  },
  "language_info": {
   "codemirror_mode": {
    "name": "ipython",
    "version": 3
   },
   "file_extension": ".py",
   "mimetype": "text/x-python",
   "name": "python",
   "nbconvert_exporter": "python",
   "pygments_lexer": "ipython3",
   "version": "3.8.3"
  }
 },
 "nbformat": 4,
 "nbformat_minor": 4
}
