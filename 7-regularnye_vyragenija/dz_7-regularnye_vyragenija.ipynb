{
 "cells": [
  {
   "cell_type": "markdown",
   "metadata": {},
   "source": [
    "# Задание 1\n",
    "\n",
    "Напишите функцию, которая принимает на вход строку и проверяет является ли она валидным транспортным номером (1 буква, 3 цифры, 2 буквы, 2-3 цифры). Обратите внимание, что не все буквы кириллического алфавита используются в транспортных номерах.\n",
    "\n",
    "Если номер валиден, то функция должна возвращать отдельно номер и регион.\n",
    "\n",
    "Примеры работы программы:\n",
    "car_id = 'A222BC96'\n",
    "\n",
    "Результат:  Номер A222BС валиден. Регион: 96\n",
    "car_id = 'АБ22ВВ193'\n",
    "\n",
    "Результат:  Номер не валиден"
   ]
  },
  {
   "cell_type": "code",
   "execution_count": 2,
   "metadata": {},
   "outputs": [
    {
     "name": "stdout",
     "output_type": "stream",
     "text": [
      "Введите номер А123ВС67\n",
      "Номер А123ВС валиден. Регион: 67\n"
     ]
    }
   ],
   "source": [
    "import re\n",
    "\n",
    "def validation_auto_number (car_id):\n",
    "    regex_number = r'([А, В, Е, К, М, Н, О, Р, С, Т, У, Х]{1})(\\d{3})([А, В, Е, К, М, Н, О, Р, С, Т, У, Х]{2})'\n",
    "    regex_region = r'\\d{2,3}$'\n",
    "    if re.match(regex_number, car_id):\n",
    "        number = re.match(regex_number, car_id)[0]\n",
    "        region = re.search(regex_region, car_id)[0]\n",
    "        result = 'Номер ' + number + ' валиден. Регион: ' + region\n",
    "    else:\n",
    "        result = 'Номер не валиден'\n",
    "    return result\n",
    "\n",
    "print(validation_auto_number (input('Введите номер ')))\n",
    "    \n"
   ]
  },
  {
   "cell_type": "markdown",
   "metadata": {},
   "source": [
    "# Задание 2\n",
    "\n",
    "Напишите функцию, которая будет удалять все последовательные повторы слов из заданной строки при помощи регулярных выражений.\n",
    "\n",
    "Пример работы программы:\n",
    "\n",
    "some_string = 'Напишите функцию функцию, которая будет будет будет будет удалять все все все все последовательные повторы слов из из из из заданной строки строки при помощи регулярных выражений.'\n",
    "\n",
    "Результат:\n",
    "Напишите функцию, которая будет удалять все последовательные повторы слов из заданной строки при помощи регулярных выражений."
   ]
  },
  {
   "cell_type": "code",
   "execution_count": 50,
   "metadata": {},
   "outputs": [
    {
     "name": "stdout",
     "output_type": "stream",
     "text": [
      "Напишите функцию, которая будет удалять все последовательные повторы слов из заданной строки при помощи регулярных выражений.\n"
     ]
    }
   ],
   "source": [
    "import re\n",
    "\n",
    "some_string = 'Напишите функцию функцию, которая будет будет будет будет удалять все все все все последовательные повторы слов из из из из заданной строки строки при помощи регулярных выражений.'\n",
    "\n",
    "print(re.sub(r'([\\w]+)(\\s+\\1)+', r'\\1', some_string))\n"
   ]
  },
  {
   "cell_type": "markdown",
   "metadata": {},
   "source": [
    "# Задание 3\n",
    "\n",
    "Напишите функцию, которая будет возвращать акроним по переданной в нее строке со словами.\n",
    "\n",
    "Примеры работы программы:\n",
    "\n",
    "some_words = 'Информационные технологии'\n",
    "\n",
    "Результат:  ИТ\n",
    "\n",
    "some_words = 'Near Field Communication'\n",
    "\n",
    "Результат:  NFC"
   ]
  },
  {
   "cell_type": "code",
   "execution_count": 88,
   "metadata": {},
   "outputs": [
    {
     "name": "stdout",
     "output_type": "stream",
     "text": [
      "NFC\n"
     ]
    }
   ],
   "source": [
    "import re\n",
    "\n",
    "some_words = 'Near Field Communication'\n",
    "\n",
    "print(''.join(re.findall(r'\\b\\w', some_words.upper())))"
   ]
  },
  {
   "cell_type": "markdown",
   "metadata": {},
   "source": [
    "# Задание 4\n",
    "\n",
    "Напишите функцию, которая будет принимать на вход список email-адресов и выводить их распределение по доменным зонам.\n",
    "\n",
    "Пример работы программы:\n",
    "\n",
    "emails = ['test@gmail.com', 'xyz@test.in', 'test@ya.ru', 'xyz@mail.ru', 'xyz@ya.ru', 'xyz@gmail.com']\n",
    "\n",
    "Результат:\n",
    "    \n",
    "gmail.com: 2\n",
    "\n",
    "test.in: 1 \n",
    "\n",
    "ya.ru: 2 \n",
    "\n",
    "mail.ru: 1"
   ]
  },
  {
   "cell_type": "code",
   "execution_count": 119,
   "metadata": {},
   "outputs": [
    {
     "name": "stdout",
     "output_type": "stream",
     "text": [
      "@gmail.com :  2\n",
      "@test.in :  1\n",
      "@mail.ru :  1\n",
      "@ya.ru :  2\n"
     ]
    }
   ],
   "source": [
    "import re\n",
    "\n",
    "emails = ['test@gmail.com', 'xyz@test.in', 'test@ya.ru', 'xyz@mail.ru', 'xyz@ya.ru', 'xyz@gmail.com']\n",
    "\n",
    "domain = list(set(re.findall(r'@\\w+\\.\\w+', str(emails))))\n",
    "\n",
    "list(set(re.findall(r'@\\w+\\.\\w+', str(emails))))\n",
    "\n",
    "for key in domain:\n",
    "    print(key, ': ' ,re.findall(r'@\\w+\\.\\w+', str(emails)).count(key))\n"
   ]
  }
 ],
 "metadata": {
  "kernelspec": {
   "display_name": "Python 3",
   "language": "python",
   "name": "python3"
  },
  "language_info": {
   "codemirror_mode": {
    "name": "ipython",
    "version": 3
   },
   "file_extension": ".py",
   "mimetype": "text/x-python",
   "name": "python",
   "nbconvert_exporter": "python",
   "pygments_lexer": "ipython3",
   "version": "3.8.3"
  }
 },
 "nbformat": 4,
 "nbformat_minor": 4
}
