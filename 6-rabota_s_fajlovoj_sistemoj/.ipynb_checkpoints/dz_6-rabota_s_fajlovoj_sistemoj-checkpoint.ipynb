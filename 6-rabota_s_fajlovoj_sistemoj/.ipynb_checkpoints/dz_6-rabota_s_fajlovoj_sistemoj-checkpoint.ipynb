{
 "cells": [
  {
   "cell_type": "markdown",
   "metadata": {},
   "source": [
    "# Задание 1\n",
    "\n",
    "Переведите содержимое файла purchase_log.txt в словарь purchases вида:\n",
    "\n",
    "{‘1840e0b9d4’: ‘Продукты’, …}"
   ]
  },
  {
   "cell_type": "code",
   "execution_count": 37,
   "metadata": {},
   "outputs": [
    {
     "name": "stdout",
     "output_type": "stream",
     "text": [
      "('user_id', 'category')\n",
      "('1840e0b9d4', 'Продукты')\n",
      "('4e4f90fcfb', 'Электроника')\n",
      "('afea8d72fc', 'Электроника')\n",
      "('373a6055fe', 'Бытовая техника')\n",
      "('9b2ab046f3', 'Электроника')\n",
      "('9f39d307c3', 'Электроника')\n",
      "('44edeffc91', 'Продукты')\n",
      "('704474fa2d', 'Продукты')\n",
      "('1de31be403', 'Бытовая техника')\n",
      "('b71f36a5e4', 'Продукты')\n",
      "('79843a685a', 'Продукты')\n"
     ]
    }
   ],
   "source": [
    "import json\n",
    "purchases = dict()\n",
    "dir_ = '/Users/a.gavrilik/Desktop/Data Analytics/PYDA-14_DZ/6-rabota_s_fajlovoj_sistemoj/downloads/'\n",
    "with open(dir_ + 'purchase_log.txt') as f:\n",
    "    for i, line in enumerate(f):\n",
    "        purchases.update({json.loads(line).get('user_id') : json.loads(line).get('category')})\n",
    "\n",
    "# Проверка\n",
    "for i, item in enumerate(purchases.items()):\n",
    "    print(item)\n",
    "    if i > 10:\n",
    "        break"
   ]
  },
  {
   "cell_type": "markdown",
   "metadata": {},
   "source": [
    "# Задание 2\n",
    "\n",
    "Для каждого user_id в файле visit_log.csv определите третий столбец с категорией покупки (если покупка была, сам файл visit_log.csv изменять не надо). Запишите в файл funnel.csv визиты из файла visit_log.csv, в которых были покупки с указанием категории.\n",
    "\n",
    "Учтите условия на данные:\n",
    "содержимое purchase_log.txt помещается в оперативную память компьютера\n",
    "содержимое visit_log.csv - нет; используйте только построчную обработку этого файла"
   ]
  },
  {
   "cell_type": "code",
   "execution_count": 51,
   "metadata": {},
   "outputs": [
    {
     "name": "stdout",
     "output_type": "stream",
     "text": [
      "Vse\n"
     ]
    }
   ],
   "source": [
    "# Преобразуем содержимое файла purchase_log.txt в словарь вида {‘1840e0b9d4’: ‘Продукты’, …}.\n",
    "# Далее по этому словарю будем подбирать категорю по ID.\n",
    "import json\n",
    "purchases = dict()\n",
    "dir_ = '/Users/a.gavrilik/Desktop/Data Analytics/PYDA-14_DZ/6-rabota_s_fajlovoj_sistemoj/downloads/'\n",
    "with open(dir_ + 'purchase_log.txt') as f:\n",
    "    for i, line in enumerate(f):\n",
    "        purchases.update({json.loads(line).get('user_id') : json.loads(line).get('category')})\n",
    "\n",
    "# Подгружаем содержимое файла purchase_log.txt в ОП в переменную purchase.\n",
    "# Далее будем использовать содержимое переменной purchase для проверки присутсвия нужного ID в файле purchase_log.txt.\n",
    "purchase = open(dir_ + 'purchase_log.txt').readlines()\n",
    "\n",
    "with open(dir_ + 'funnel.csv', 'w') as funnel: # Открываем(создаем) файл funnel.csv на перезапись и связываем с пременной funnel\n",
    "    with open(dir_ + 'visit_log.csv') as visit: # Открываем visit_log.csv на чтение и связываем с пременной visit\n",
    "        for i, visit_line in enumerate(visit): # Считываем построчно переменную visit\n",
    "            for j, purchase_line in enumerate(purchase): # Считываем построчно переменную purchase\n",
    "                if visit_line.split(',')[0] in purchase_line: # Проверяем присутсвие номера ID из текущей строки visit в строках purchase\n",
    "                    f = visit_line.strip().split(',') # Если ID из текущей строки visit найден в purchase, преобразуем тек.стр. из visit в список разделенный ',' и присваиваем этот список переменной f\n",
    "                    f.append(purchases[visit_line.split(',')[0]]) # Добавляем в конец переменной f (в конеч списка) значение из массива purchases по ключу (ключ = ID)\n",
    "                    funnel.write(','.join(f) + '\\n') # Преобразуем переменную f (список) в строку и записываем в файл funnel.csv через переменную funnel\n",
    "                    break\n",
    "print('END')"
   ]
  }
 ],
 "metadata": {
  "kernelspec": {
   "display_name": "Python 3",
   "language": "python",
   "name": "python3"
  },
  "language_info": {
   "codemirror_mode": {
    "name": "ipython",
    "version": 3
   },
   "file_extension": ".py",
   "mimetype": "text/x-python",
   "name": "python",
   "nbconvert_exporter": "python",
   "pygments_lexer": "ipython3",
   "version": "3.8.3"
  }
 },
 "nbformat": 4,
 "nbformat_minor": 4
}
