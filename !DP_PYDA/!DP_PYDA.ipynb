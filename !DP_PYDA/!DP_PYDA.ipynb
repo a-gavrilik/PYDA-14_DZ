{
 "cells": [
  {
   "cell_type": "markdown",
   "metadata": {},
   "source": [
    "Дан файл HR.csv с данными по опросу уровня удовлетворенности сотрудниками работой.\n",
    "Файл доступен тут -\n",
    "https://drive.google.com/file/d/1INgo03nal-vwFJe7Lec5vOUtOwfJdUr1/view?usp=sharing\n",
    "\n",
    "### Признаки:\n",
    "1. satisfaction_level - Уровень удовлетворенности работой\n",
    "2. Last_evaluation - Время с момента последней оценки в годах\n",
    "3. number_projects - Количество проектов, выполненных за время работы\n",
    "4. average_monthly_hours - Среднее количество часов на рабочем месте в месяц\n",
    "5. time_spend_company - Стаж работы в компании в годах\n",
    "6. work_accident - Происходили ли несчастные случаи на рабочем месте с сотрудником\n",
    "7. left - уволился ли сотрудник\n",
    "8. promotion_last_5years - повышался ли сотрудник за последние пять лет\n",
    "9. department - отдел в котором работает сотрудник\n",
    "10. salary - относительный уровень зарплаты\n",
    "\n",
    "### Задание\n",
    "\n",
    "1. Загрузить файл hr.csv.\n",
    "2. Рассчитать основные статистики для переменных (среднее,медиана,мода,мин/макс,сред.отклонение).\n",
    "3. Рассчитать и визуализировать корреляционную матрицу для переменных.\n",
    "4. Визуализировать несколько взаимосвязей между переменными.\n",
    "5. <span style=\"color:gray\">С использованием t-test статистики проверить взаимосвязи между несколькими переменными.</span>\n",
    "6. Рассчитать сколько работников работает в каждом департаменте.\n",
    "7. Показать распределение сотрудников по зарплатам.\n",
    "8. Показать распределение сотрудников по зарплатам совместно с департаментами.\n",
    "9. Сколько сотрудников покинули компанию.\n",
    "10. Проверить несколько гипотез для данных, чтобы понять почему сотрудники покидают компанию.\n",
    "11. Загрузить результат (в формате .ipynb ноутбука) в репозиторий. Разместить ссылку на репозиторий в Личном кабинете</span>\n",
    "\n",
    "Для зачета по дипмломной работе необходимо выполнить не менее 70% заданий от общего количества, т.е 8 заданий.*"
   ]
  },
  {
   "cell_type": "code",
   "execution_count": 141,
   "metadata": {},
   "outputs": [],
   "source": [
    "import pandas as pd\n",
    "import numpy as np\n",
    "import matplotlib.pyplot as plt\n",
    "import seaborn as sns\n",
    "from pylab import rcParams"
   ]
  },
  {
   "cell_type": "markdown",
   "metadata": {},
   "source": [
    "### 1. Загрузить файл hr.csv."
   ]
  },
  {
   "cell_type": "code",
   "execution_count": 2,
   "metadata": {},
   "outputs": [
    {
     "data": {
      "text/html": [
       "<div>\n",
       "<style scoped>\n",
       "    .dataframe tbody tr th:only-of-type {\n",
       "        vertical-align: middle;\n",
       "    }\n",
       "\n",
       "    .dataframe tbody tr th {\n",
       "        vertical-align: top;\n",
       "    }\n",
       "\n",
       "    .dataframe thead th {\n",
       "        text-align: right;\n",
       "    }\n",
       "</style>\n",
       "<table border=\"1\" class=\"dataframe\">\n",
       "  <thead>\n",
       "    <tr style=\"text-align: right;\">\n",
       "      <th></th>\n",
       "      <th>satisfaction_level</th>\n",
       "      <th>last_evaluation</th>\n",
       "      <th>number_project</th>\n",
       "      <th>average_montly_hours</th>\n",
       "      <th>time_spend_company</th>\n",
       "      <th>Work_accident</th>\n",
       "      <th>left</th>\n",
       "      <th>promotion_last_5years</th>\n",
       "      <th>department</th>\n",
       "      <th>salary</th>\n",
       "    </tr>\n",
       "  </thead>\n",
       "  <tbody>\n",
       "    <tr>\n",
       "      <th>0</th>\n",
       "      <td>0.38</td>\n",
       "      <td>0.53</td>\n",
       "      <td>2</td>\n",
       "      <td>157</td>\n",
       "      <td>3</td>\n",
       "      <td>0</td>\n",
       "      <td>1</td>\n",
       "      <td>0</td>\n",
       "      <td>sales</td>\n",
       "      <td>low</td>\n",
       "    </tr>\n",
       "    <tr>\n",
       "      <th>1</th>\n",
       "      <td>0.80</td>\n",
       "      <td>0.86</td>\n",
       "      <td>5</td>\n",
       "      <td>262</td>\n",
       "      <td>6</td>\n",
       "      <td>0</td>\n",
       "      <td>1</td>\n",
       "      <td>0</td>\n",
       "      <td>sales</td>\n",
       "      <td>medium</td>\n",
       "    </tr>\n",
       "    <tr>\n",
       "      <th>2</th>\n",
       "      <td>0.11</td>\n",
       "      <td>0.88</td>\n",
       "      <td>7</td>\n",
       "      <td>272</td>\n",
       "      <td>4</td>\n",
       "      <td>0</td>\n",
       "      <td>1</td>\n",
       "      <td>0</td>\n",
       "      <td>sales</td>\n",
       "      <td>medium</td>\n",
       "    </tr>\n",
       "    <tr>\n",
       "      <th>3</th>\n",
       "      <td>0.72</td>\n",
       "      <td>0.87</td>\n",
       "      <td>5</td>\n",
       "      <td>223</td>\n",
       "      <td>5</td>\n",
       "      <td>0</td>\n",
       "      <td>1</td>\n",
       "      <td>0</td>\n",
       "      <td>sales</td>\n",
       "      <td>low</td>\n",
       "    </tr>\n",
       "    <tr>\n",
       "      <th>4</th>\n",
       "      <td>0.37</td>\n",
       "      <td>0.52</td>\n",
       "      <td>2</td>\n",
       "      <td>159</td>\n",
       "      <td>3</td>\n",
       "      <td>0</td>\n",
       "      <td>1</td>\n",
       "      <td>0</td>\n",
       "      <td>sales</td>\n",
       "      <td>low</td>\n",
       "    </tr>\n",
       "    <tr>\n",
       "      <th>...</th>\n",
       "      <td>...</td>\n",
       "      <td>...</td>\n",
       "      <td>...</td>\n",
       "      <td>...</td>\n",
       "      <td>...</td>\n",
       "      <td>...</td>\n",
       "      <td>...</td>\n",
       "      <td>...</td>\n",
       "      <td>...</td>\n",
       "      <td>...</td>\n",
       "    </tr>\n",
       "    <tr>\n",
       "      <th>14994</th>\n",
       "      <td>0.40</td>\n",
       "      <td>0.57</td>\n",
       "      <td>2</td>\n",
       "      <td>151</td>\n",
       "      <td>3</td>\n",
       "      <td>0</td>\n",
       "      <td>1</td>\n",
       "      <td>0</td>\n",
       "      <td>support</td>\n",
       "      <td>low</td>\n",
       "    </tr>\n",
       "    <tr>\n",
       "      <th>14995</th>\n",
       "      <td>0.37</td>\n",
       "      <td>0.48</td>\n",
       "      <td>2</td>\n",
       "      <td>160</td>\n",
       "      <td>3</td>\n",
       "      <td>0</td>\n",
       "      <td>1</td>\n",
       "      <td>0</td>\n",
       "      <td>support</td>\n",
       "      <td>low</td>\n",
       "    </tr>\n",
       "    <tr>\n",
       "      <th>14996</th>\n",
       "      <td>0.37</td>\n",
       "      <td>0.53</td>\n",
       "      <td>2</td>\n",
       "      <td>143</td>\n",
       "      <td>3</td>\n",
       "      <td>0</td>\n",
       "      <td>1</td>\n",
       "      <td>0</td>\n",
       "      <td>support</td>\n",
       "      <td>low</td>\n",
       "    </tr>\n",
       "    <tr>\n",
       "      <th>14997</th>\n",
       "      <td>0.11</td>\n",
       "      <td>0.96</td>\n",
       "      <td>6</td>\n",
       "      <td>280</td>\n",
       "      <td>4</td>\n",
       "      <td>0</td>\n",
       "      <td>1</td>\n",
       "      <td>0</td>\n",
       "      <td>support</td>\n",
       "      <td>low</td>\n",
       "    </tr>\n",
       "    <tr>\n",
       "      <th>14998</th>\n",
       "      <td>0.37</td>\n",
       "      <td>0.52</td>\n",
       "      <td>2</td>\n",
       "      <td>158</td>\n",
       "      <td>3</td>\n",
       "      <td>0</td>\n",
       "      <td>1</td>\n",
       "      <td>0</td>\n",
       "      <td>support</td>\n",
       "      <td>low</td>\n",
       "    </tr>\n",
       "  </tbody>\n",
       "</table>\n",
       "<p>14999 rows × 10 columns</p>\n",
       "</div>"
      ],
      "text/plain": [
       "       satisfaction_level  last_evaluation  number_project  \\\n",
       "0                    0.38             0.53               2   \n",
       "1                    0.80             0.86               5   \n",
       "2                    0.11             0.88               7   \n",
       "3                    0.72             0.87               5   \n",
       "4                    0.37             0.52               2   \n",
       "...                   ...              ...             ...   \n",
       "14994                0.40             0.57               2   \n",
       "14995                0.37             0.48               2   \n",
       "14996                0.37             0.53               2   \n",
       "14997                0.11             0.96               6   \n",
       "14998                0.37             0.52               2   \n",
       "\n",
       "       average_montly_hours  time_spend_company  Work_accident  left  \\\n",
       "0                       157                   3              0     1   \n",
       "1                       262                   6              0     1   \n",
       "2                       272                   4              0     1   \n",
       "3                       223                   5              0     1   \n",
       "4                       159                   3              0     1   \n",
       "...                     ...                 ...            ...   ...   \n",
       "14994                   151                   3              0     1   \n",
       "14995                   160                   3              0     1   \n",
       "14996                   143                   3              0     1   \n",
       "14997                   280                   4              0     1   \n",
       "14998                   158                   3              0     1   \n",
       "\n",
       "       promotion_last_5years department  salary  \n",
       "0                          0      sales     low  \n",
       "1                          0      sales  medium  \n",
       "2                          0      sales  medium  \n",
       "3                          0      sales     low  \n",
       "4                          0      sales     low  \n",
       "...                      ...        ...     ...  \n",
       "14994                      0    support     low  \n",
       "14995                      0    support     low  \n",
       "14996                      0    support     low  \n",
       "14997                      0    support     low  \n",
       "14998                      0    support     low  \n",
       "\n",
       "[14999 rows x 10 columns]"
      ]
     },
     "execution_count": 2,
     "metadata": {},
     "output_type": "execute_result"
    }
   ],
   "source": [
    "df = pd.read_csv('HR.csv')\n",
    "df"
   ]
  },
  {
   "cell_type": "code",
   "execution_count": 3,
   "metadata": {},
   "outputs": [
    {
     "name": "stdout",
     "output_type": "stream",
     "text": [
      "<class 'pandas.core.frame.DataFrame'>\n",
      "RangeIndex: 14999 entries, 0 to 14998\n",
      "Data columns (total 10 columns):\n",
      " #   Column                 Non-Null Count  Dtype  \n",
      "---  ------                 --------------  -----  \n",
      " 0   satisfaction_level     14999 non-null  float64\n",
      " 1   last_evaluation        14999 non-null  float64\n",
      " 2   number_project         14999 non-null  int64  \n",
      " 3   average_montly_hours   14999 non-null  int64  \n",
      " 4   time_spend_company     14999 non-null  int64  \n",
      " 5   Work_accident          14999 non-null  int64  \n",
      " 6   left                   14999 non-null  int64  \n",
      " 7   promotion_last_5years  14999 non-null  int64  \n",
      " 8   department             14999 non-null  object \n",
      " 9   salary                 14999 non-null  object \n",
      "dtypes: float64(2), int64(6), object(2)\n",
      "memory usage: 1.1+ MB\n"
     ]
    }
   ],
   "source": [
    "df.info()"
   ]
  },
  {
   "cell_type": "code",
   "execution_count": 4,
   "metadata": {},
   "outputs": [
    {
     "data": {
      "text/html": [
       "<div>\n",
       "<style scoped>\n",
       "    .dataframe tbody tr th:only-of-type {\n",
       "        vertical-align: middle;\n",
       "    }\n",
       "\n",
       "    .dataframe tbody tr th {\n",
       "        vertical-align: top;\n",
       "    }\n",
       "\n",
       "    .dataframe thead th {\n",
       "        text-align: right;\n",
       "    }\n",
       "</style>\n",
       "<table border=\"1\" class=\"dataframe\">\n",
       "  <thead>\n",
       "    <tr style=\"text-align: right;\">\n",
       "      <th></th>\n",
       "      <th>satisfaction_level</th>\n",
       "      <th>last_evaluation</th>\n",
       "      <th>number_project</th>\n",
       "      <th>average_montly_hours</th>\n",
       "      <th>time_spend_company</th>\n",
       "      <th>Work_accident</th>\n",
       "      <th>left</th>\n",
       "      <th>promotion_last_5years</th>\n",
       "    </tr>\n",
       "  </thead>\n",
       "  <tbody>\n",
       "    <tr>\n",
       "      <th>count</th>\n",
       "      <td>14999.000000</td>\n",
       "      <td>14999.000000</td>\n",
       "      <td>14999.000000</td>\n",
       "      <td>14999.000000</td>\n",
       "      <td>14999.000000</td>\n",
       "      <td>14999.000000</td>\n",
       "      <td>14999.000000</td>\n",
       "      <td>14999.000000</td>\n",
       "    </tr>\n",
       "    <tr>\n",
       "      <th>mean</th>\n",
       "      <td>0.612834</td>\n",
       "      <td>0.716102</td>\n",
       "      <td>3.803054</td>\n",
       "      <td>201.050337</td>\n",
       "      <td>3.498233</td>\n",
       "      <td>0.144610</td>\n",
       "      <td>0.238083</td>\n",
       "      <td>0.021268</td>\n",
       "    </tr>\n",
       "    <tr>\n",
       "      <th>std</th>\n",
       "      <td>0.248631</td>\n",
       "      <td>0.171169</td>\n",
       "      <td>1.232592</td>\n",
       "      <td>49.943099</td>\n",
       "      <td>1.460136</td>\n",
       "      <td>0.351719</td>\n",
       "      <td>0.425924</td>\n",
       "      <td>0.144281</td>\n",
       "    </tr>\n",
       "    <tr>\n",
       "      <th>min</th>\n",
       "      <td>0.090000</td>\n",
       "      <td>0.360000</td>\n",
       "      <td>2.000000</td>\n",
       "      <td>96.000000</td>\n",
       "      <td>2.000000</td>\n",
       "      <td>0.000000</td>\n",
       "      <td>0.000000</td>\n",
       "      <td>0.000000</td>\n",
       "    </tr>\n",
       "    <tr>\n",
       "      <th>25%</th>\n",
       "      <td>0.440000</td>\n",
       "      <td>0.560000</td>\n",
       "      <td>3.000000</td>\n",
       "      <td>156.000000</td>\n",
       "      <td>3.000000</td>\n",
       "      <td>0.000000</td>\n",
       "      <td>0.000000</td>\n",
       "      <td>0.000000</td>\n",
       "    </tr>\n",
       "    <tr>\n",
       "      <th>50%</th>\n",
       "      <td>0.640000</td>\n",
       "      <td>0.720000</td>\n",
       "      <td>4.000000</td>\n",
       "      <td>200.000000</td>\n",
       "      <td>3.000000</td>\n",
       "      <td>0.000000</td>\n",
       "      <td>0.000000</td>\n",
       "      <td>0.000000</td>\n",
       "    </tr>\n",
       "    <tr>\n",
       "      <th>75%</th>\n",
       "      <td>0.820000</td>\n",
       "      <td>0.870000</td>\n",
       "      <td>5.000000</td>\n",
       "      <td>245.000000</td>\n",
       "      <td>4.000000</td>\n",
       "      <td>0.000000</td>\n",
       "      <td>0.000000</td>\n",
       "      <td>0.000000</td>\n",
       "    </tr>\n",
       "    <tr>\n",
       "      <th>max</th>\n",
       "      <td>1.000000</td>\n",
       "      <td>1.000000</td>\n",
       "      <td>7.000000</td>\n",
       "      <td>310.000000</td>\n",
       "      <td>10.000000</td>\n",
       "      <td>1.000000</td>\n",
       "      <td>1.000000</td>\n",
       "      <td>1.000000</td>\n",
       "    </tr>\n",
       "  </tbody>\n",
       "</table>\n",
       "</div>"
      ],
      "text/plain": [
       "       satisfaction_level  last_evaluation  number_project  \\\n",
       "count        14999.000000     14999.000000    14999.000000   \n",
       "mean             0.612834         0.716102        3.803054   \n",
       "std              0.248631         0.171169        1.232592   \n",
       "min              0.090000         0.360000        2.000000   \n",
       "25%              0.440000         0.560000        3.000000   \n",
       "50%              0.640000         0.720000        4.000000   \n",
       "75%              0.820000         0.870000        5.000000   \n",
       "max              1.000000         1.000000        7.000000   \n",
       "\n",
       "       average_montly_hours  time_spend_company  Work_accident          left  \\\n",
       "count          14999.000000        14999.000000   14999.000000  14999.000000   \n",
       "mean             201.050337            3.498233       0.144610      0.238083   \n",
       "std               49.943099            1.460136       0.351719      0.425924   \n",
       "min               96.000000            2.000000       0.000000      0.000000   \n",
       "25%              156.000000            3.000000       0.000000      0.000000   \n",
       "50%              200.000000            3.000000       0.000000      0.000000   \n",
       "75%              245.000000            4.000000       0.000000      0.000000   \n",
       "max              310.000000           10.000000       1.000000      1.000000   \n",
       "\n",
       "       promotion_last_5years  \n",
       "count           14999.000000  \n",
       "mean                0.021268  \n",
       "std                 0.144281  \n",
       "min                 0.000000  \n",
       "25%                 0.000000  \n",
       "50%                 0.000000  \n",
       "75%                 0.000000  \n",
       "max                 1.000000  "
      ]
     },
     "execution_count": 4,
     "metadata": {},
     "output_type": "execute_result"
    }
   ],
   "source": [
    "df.describe()"
   ]
  },
  {
   "cell_type": "markdown",
   "metadata": {},
   "source": [
    "### 2. Рассчитать основные статистики для переменных (среднее,медиана,мода,мин/макс,сред.отклонение)."
   ]
  },
  {
   "cell_type": "code",
   "execution_count": 5,
   "metadata": {},
   "outputs": [
    {
     "data": {
      "text/html": [
       "<div>\n",
       "<style scoped>\n",
       "    .dataframe tbody tr th:only-of-type {\n",
       "        vertical-align: middle;\n",
       "    }\n",
       "\n",
       "    .dataframe tbody tr th {\n",
       "        vertical-align: top;\n",
       "    }\n",
       "\n",
       "    .dataframe thead th {\n",
       "        text-align: right;\n",
       "    }\n",
       "</style>\n",
       "<table border=\"1\" class=\"dataframe\">\n",
       "  <thead>\n",
       "    <tr style=\"text-align: right;\">\n",
       "      <th></th>\n",
       "      <th>satisfaction_level</th>\n",
       "      <th>last_evaluation</th>\n",
       "      <th>number_project</th>\n",
       "      <th>average_montly_hours</th>\n",
       "      <th>time_spend_company</th>\n",
       "      <th>Work_accident</th>\n",
       "      <th>left</th>\n",
       "      <th>promotion_last_5years</th>\n",
       "      <th>department</th>\n",
       "      <th>salary</th>\n",
       "    </tr>\n",
       "  </thead>\n",
       "  <tbody>\n",
       "    <tr>\n",
       "      <th>mean</th>\n",
       "      <td>0.612834</td>\n",
       "      <td>0.716102</td>\n",
       "      <td>3.803054</td>\n",
       "      <td>201.050337</td>\n",
       "      <td>3.498233</td>\n",
       "      <td>0.144610</td>\n",
       "      <td>0.238083</td>\n",
       "      <td>0.021268</td>\n",
       "      <td>NaN</td>\n",
       "      <td>NaN</td>\n",
       "    </tr>\n",
       "    <tr>\n",
       "      <th>std</th>\n",
       "      <td>0.248631</td>\n",
       "      <td>0.171169</td>\n",
       "      <td>1.232592</td>\n",
       "      <td>49.943099</td>\n",
       "      <td>1.460136</td>\n",
       "      <td>0.351719</td>\n",
       "      <td>0.425924</td>\n",
       "      <td>0.144281</td>\n",
       "      <td>NaN</td>\n",
       "      <td>NaN</td>\n",
       "    </tr>\n",
       "    <tr>\n",
       "      <th>min</th>\n",
       "      <td>0.090000</td>\n",
       "      <td>0.360000</td>\n",
       "      <td>2.000000</td>\n",
       "      <td>96.000000</td>\n",
       "      <td>2.000000</td>\n",
       "      <td>0.000000</td>\n",
       "      <td>0.000000</td>\n",
       "      <td>0.000000</td>\n",
       "      <td>NaN</td>\n",
       "      <td>NaN</td>\n",
       "    </tr>\n",
       "    <tr>\n",
       "      <th>max</th>\n",
       "      <td>1.000000</td>\n",
       "      <td>1.000000</td>\n",
       "      <td>7.000000</td>\n",
       "      <td>310.000000</td>\n",
       "      <td>10.000000</td>\n",
       "      <td>1.000000</td>\n",
       "      <td>1.000000</td>\n",
       "      <td>1.000000</td>\n",
       "      <td>NaN</td>\n",
       "      <td>NaN</td>\n",
       "    </tr>\n",
       "    <tr>\n",
       "      <th>median</th>\n",
       "      <td>0.640000</td>\n",
       "      <td>0.720000</td>\n",
       "      <td>4.000000</td>\n",
       "      <td>200.000000</td>\n",
       "      <td>3.000000</td>\n",
       "      <td>0.000000</td>\n",
       "      <td>0.000000</td>\n",
       "      <td>0.000000</td>\n",
       "      <td>NaN</td>\n",
       "      <td>NaN</td>\n",
       "    </tr>\n",
       "    <tr>\n",
       "      <th>mode</th>\n",
       "      <td>0.100000</td>\n",
       "      <td>0.550000</td>\n",
       "      <td>4.000000</td>\n",
       "      <td>135.000000</td>\n",
       "      <td>3.000000</td>\n",
       "      <td>0.000000</td>\n",
       "      <td>0.000000</td>\n",
       "      <td>0.000000</td>\n",
       "      <td>sales</td>\n",
       "      <td>low</td>\n",
       "    </tr>\n",
       "  </tbody>\n",
       "</table>\n",
       "</div>"
      ],
      "text/plain": [
       "        satisfaction_level  last_evaluation  number_project  \\\n",
       "mean              0.612834         0.716102        3.803054   \n",
       "std               0.248631         0.171169        1.232592   \n",
       "min               0.090000         0.360000        2.000000   \n",
       "max               1.000000         1.000000        7.000000   \n",
       "median            0.640000         0.720000        4.000000   \n",
       "mode              0.100000         0.550000        4.000000   \n",
       "\n",
       "        average_montly_hours  time_spend_company  Work_accident      left  \\\n",
       "mean              201.050337            3.498233       0.144610  0.238083   \n",
       "std                49.943099            1.460136       0.351719  0.425924   \n",
       "min                96.000000            2.000000       0.000000  0.000000   \n",
       "max               310.000000           10.000000       1.000000  1.000000   \n",
       "median            200.000000            3.000000       0.000000  0.000000   \n",
       "mode              135.000000            3.000000       0.000000  0.000000   \n",
       "\n",
       "        promotion_last_5years department salary  \n",
       "mean                 0.021268        NaN    NaN  \n",
       "std                  0.144281        NaN    NaN  \n",
       "min                  0.000000        NaN    NaN  \n",
       "max                  1.000000        NaN    NaN  \n",
       "median               0.000000        NaN    NaN  \n",
       "mode                 0.000000      sales    low  "
      ]
     },
     "execution_count": 5,
     "metadata": {},
     "output_type": "execute_result"
    }
   ],
   "source": [
    "main_stat = pd.DataFrame()\n",
    "\n",
    "columns = list(df)\n",
    "\n",
    "for col in columns:\n",
    "    try:\n",
    "        median_ = df[col].median()\n",
    "    except:\n",
    "        median_ = 'NaN'\n",
    "    try:\n",
    "        mode_ = df[col].mode()[0]\n",
    "    except:\n",
    "        mode_ = 'NaN'\n",
    "    main_stat[col] = [median_, mode_]\n",
    "\n",
    "main_stat.rename(index = {0: 'median', 1: 'mode'}, inplace = True)\n",
    "\n",
    "main_stat = pd.concat([df.describe().drop(index=['count', '25%', '50%', '75%']), main_stat])\n",
    "main_stat"
   ]
  },
  {
   "cell_type": "markdown",
   "metadata": {},
   "source": [
    "### Выводы по основным показателям:\n",
    "\n",
    "1. **satisfaction_level (*Уровень удовлетворенности работой*)** - минимальный уровень удовлетворенности работой 0.09 (т.е. чуть выше чем полный 0), максимальный - 1 (т.е. кто-то всем доволен). Среднее арифметическое равно 0.612834 при стандартном отклонении вокруг ср.арифметического 0.248631 (т.е. разброс не огромный, но значимы) - можно сделать вывод, что по большей части удовлетворенность выше среднего. Это же подтверждает значение медианы равное 0.640000, которое делит выборку ровно пополам. Значение моды (мода - самое частое значение в выборке) в данном случае показательнее округлить до десятых (чтоб было больше одинаковых между собой значений). Значение округленной моды `df['satisfaction_level'].round(1).mode()[0]` равно 0.8, т.е.чаще всего работники ставят оценку удовлетворенности выше среднего.\n",
    "\n",
    "\n",
    "2. **last_evaluation (*Время с момента последней оценки в годах*)** - самые \"старые\" (максимум) данные возрастом в 1 год, самые \"ранние\" (минимум) 0.36 месяца. По средним значениям (медиана, ср.арифм., и округленная мода `df['last_evaluation'].round(1).mode()[0]`=0.6) можно сделать вывод, что большая часть данных имеет возраст чуть более полугода. \n",
    "\n",
    "\n",
    "3. **number_projects (*Количество проектов, выполненных за время работы*)** - варьиуруется от 2 до 7, т.е. каждый работник поработал хотя на на 2 проектах. Большинство сотрудников успело поработать над 4 проектами.\n",
    "\n",
    "\n",
    "4. **average_montly_hours (*Среднее количество часов на рабочем месте в месяц*)** - варьируется от 96 до 310, при этом всреднем сотрудники нарабатывают около 200 часов с месяц.\n",
    "\n",
    "\n",
    "5. **time_spend_company (*Стаж работы в компании в годах*)** - сотрудники работают в компании от 2 до 10 лет\n",
    "\n",
    "\n",
    "6. **Work_accident (*Происходили ли несчастные случаи на рабочем месте с сотрудником*)** - данный показатель категорийный (1 - да, 2 - нет), поэтому имеет смысл смотреть только на моду равную 0. Это означает у с большинством сотрудников несчастных случаев не было.  \n",
    "\n",
    "\n",
    "7. **left(*Уволился ли сотрудник*)** - данный показатель категорийный (1 - да, 2 - нет), поэтому имеет смысл смотреть только на моду равную 0, т.е. большинство сотрудников не уволились.\n",
    "\n",
    "\n",
    "8. **promotion_last_5years(*Повышался ли сотрудник за последние пять лет*)** - данный показатель категорийный (1 - да, 2 - нет), поэтому имеет смысл смотреть только на моду равную 0, т.е. большинство сотрудников не были повышены за последние 5 лет.\n",
    "\n",
    "\n",
    "9. **department(*Отдел в котором работает сотрудник*)** - данный показатель категорийный, поэтому имеет смысл смотреть только на моду равную sales, т.е. большинство сотрудников из отдела продаж. Вероятно компания что-то продает, т.е. продажник - это тот, кто непосредственно работает с клиентом. Понятно, что все компании так или иначе что-то продают. Но, например, в компании по разработке софта большинство сотрудников - это, так или иначе, разработчики. А в сети М.Видео - больше всего продажников.\n",
    "\n",
    "\n",
    "10. **salary(*Относительный уровень зарплаты*)** - данный показатель категорийный, поэтому имеет смысл смотреть только на моду равную low, т.е. большинство сотрудников имеют низкую оплату.\n",
    "\n",
    "\n",
    "\n"
   ]
  },
  {
   "cell_type": "markdown",
   "metadata": {},
   "source": [
    "### 3. Рассчитать и визуализировать корреляционную матрицу для переменных."
   ]
  },
  {
   "cell_type": "code",
   "execution_count": 281,
   "metadata": {},
   "outputs": [
    {
     "data": {
      "text/plain": [
       "<matplotlib.axes._subplots.AxesSubplot at 0x7fdcdd6a8fd0>"
      ]
     },
     "execution_count": 281,
     "metadata": {},
     "output_type": "execute_result"
    },
    {
     "data": {
      "image/png": "[encoded data removed]",
      "text/plain": [
       "<Figure size 720x360 with 2 Axes>"
      ]
     },
     "metadata": {
      "needs_background": "light"
     },
     "output_type": "display_data"
    }
   ],
   "source": [
    "# Используем метод Кендела, поскольку некоторые переменные (например, number_project) являются НЕ нерерывными (ранговыми).\n",
    "matrix = np.triu(df.corr(method='kendall'))\n",
    "sns.heatmap(df.corr(), annot=True, mask=matrix, cmap='coolwarm', linewidths=1, linecolor='black')"
   ]
  },
  {
   "cell_type": "markdown",
   "metadata": {},
   "source": [
    "### 4. Визуализировать несколько взаимосвязей между переменными."
   ]
  },
  {
   "cell_type": "code",
   "execution_count": 214,
   "metadata": {},
   "outputs": [
    {
     "data": {
      "text/plain": [
       "Text(0, 0.5, 'Department')"
      ]
     },
     "execution_count": 214,
     "metadata": {},
     "output_type": "execute_result"
    },
    {
     "data": {
      "image/png": "[encoded data removed]",
      "text/plain": [
       "<Figure size 720x360 with 1 Axes>"
      ]
     },
     "metadata": {
      "needs_background": "light"
     },
     "output_type": "display_data"
    }
   ],
   "source": [
    "rcParams['figure.figsize'] = 10,5\n",
    "\n",
    "ax = df[['satisfaction_level', 'department']].groupby(['department']).mean().plot(kind='bar', \n",
    "                                                                             title='Satisfaction by department')\n",
    "\n",
    "ax.set_xlabel('Satisfaction')\n",
    "ax.set_ylabel('Department')"
   ]
  },
  {
   "cell_type": "markdown",
   "metadata": {},
   "source": [
    "### Вывод: \n",
    "\n",
    "Среднмй уровень удовлетворенности вовсех отделах приблизительно одинаковый."
   ]
  },
  {
   "cell_type": "code",
   "execution_count": 221,
   "metadata": {},
   "outputs": [
    {
     "data": {
      "text/plain": [
       "<seaborn.axisgrid.JointGrid at 0x7fdcf371a580>"
      ]
     },
     "execution_count": 221,
     "metadata": {},
     "output_type": "execute_result"
    },
    {
     "data": {
      "image/png": "[encoded data removed]",
      "text/plain": [
       "<Figure size 432x432 with 3 Axes>"
      ]
     },
     "metadata": {
      "needs_background": "light"
     },
     "output_type": "display_data"
    }
   ],
   "source": [
    "sns.jointplot(x='number_project', y='satisfaction_level', data=df, kind='scatter')"
   ]
  },
  {
   "cell_type": "markdown",
   "metadata": {},
   "source": [
    "### Вывод: \n",
    "\n",
    "Сотрудники, которые выполнили максимальное количество проектов показывают чаще ниже среднего уровень удовлетворенности и не показывают высокую удовлетворенность."
   ]
  },
  {
   "cell_type": "code",
   "execution_count": 224,
   "metadata": {},
   "outputs": [
    {
     "data": {
      "text/plain": [
       "<matplotlib.axes._subplots.AxesSubplot at 0x7fdcf3d70310>"
      ]
     },
     "execution_count": 224,
     "metadata": {},
     "output_type": "execute_result"
    },
    {
     "data": {
      "image/png": "[encoded data removed]",
      "text/plain": [
       "<Figure size 720x360 with 1 Axes>"
      ]
     },
     "metadata": {
      "needs_background": "light"
     },
     "output_type": "display_data"
    }
   ],
   "source": [
    "df.plot(kind='scatter', \n",
    "        x='number_project', \n",
    "        y='time_spend_company', \n",
    "        title='Correlation between number_project and time_spend_company')"
   ]
  },
  {
   "cell_type": "markdown",
   "metadata": {},
   "source": [
    "### Вывод: \n",
    "\n",
    "1. Нет сотрудников, с 9 летним стажем.\n",
    "\n",
    "\n",
    "2. Среди сотрудников, которые выполнили максимальное количество проектов нет тех, кто проработал более 5 лет. Возможно сотрудники, после 5 лет переходят на другие должности, где количество проектов меньше, но они более значимые и сложные. Либо сторудники после 5 лет работы на большом количестве проектов уходят."
   ]
  },
  {
   "cell_type": "code",
   "execution_count": 222,
   "metadata": {},
   "outputs": [
    {
     "data": {
      "text/plain": [
       "<seaborn.axisgrid.JointGrid at 0x7fdcf3ba48b0>"
      ]
     },
     "execution_count": 222,
     "metadata": {},
     "output_type": "execute_result"
    },
    {
     "data": {
      "image/png": "[encoded data removed]",
      "text/plain": [
       "<Figure size 432x432 with 3 Axes>"
      ]
     },
     "metadata": {
      "needs_background": "light"
     },
     "output_type": "display_data"
    }
   ],
   "source": [
    "sns.jointplot(x='left', y='time_spend_company', data=df, kind='scatter')"
   ]
  },
  {
   "cell_type": "markdown",
   "metadata": {},
   "source": [
    "### Вывод:\n",
    "\n",
    "Среди сотрудников со стажем более 6 лет нет уволенных."
   ]
  },
  {
   "cell_type": "code",
   "execution_count": 235,
   "metadata": {},
   "outputs": [
    {
     "data": {
      "text/plain": [
       "Text(0, 0.5, 'Department')"
      ]
     },
     "execution_count": 235,
     "metadata": {},
     "output_type": "execute_result"
    },
    {
     "data": {
      "image/png": "[encoded data removed]",
      "text/plain": [
       "<Figure size 720x360 with 1 Axes>"
      ]
     },
     "metadata": {
      "needs_background": "light"
     },
     "output_type": "display_data"
    }
   ],
   "source": [
    "ax = df[['left', 'department']].groupby(['department']).mean().plot(kind='bar', title='Left by department')\n",
    "ax.set_xlabel('Left')\n",
    "ax.set_ylabel('Department')"
   ]
  },
  {
   "cell_type": "markdown",
   "metadata": {},
   "source": [
    "### Вывод:\n",
    "\n",
    "В среднем увольнений больше среди сотрудников отдела hr. Среди сотрудников отделов RandD и Mangment уволнений меньше всего."
   ]
  },
  {
   "cell_type": "markdown",
   "metadata": {},
   "source": [
    "### 6. Рассчитать сколько работников работает в каждом департаменте."
   ]
  },
  {
   "cell_type": "code",
   "execution_count": 22,
   "metadata": {},
   "outputs": [
    {
     "data": {
      "text/html": [
       "<div>\n",
       "<style scoped>\n",
       "    .dataframe tbody tr th:only-of-type {\n",
       "        vertical-align: middle;\n",
       "    }\n",
       "\n",
       "    .dataframe tbody tr th {\n",
       "        vertical-align: top;\n",
       "    }\n",
       "\n",
       "    .dataframe thead th {\n",
       "        text-align: right;\n",
       "    }\n",
       "</style>\n",
       "<table border=\"1\" class=\"dataframe\">\n",
       "  <thead>\n",
       "    <tr style=\"text-align: right;\">\n",
       "      <th></th>\n",
       "      <th>department</th>\n",
       "      <th>count</th>\n",
       "    </tr>\n",
       "  </thead>\n",
       "  <tbody>\n",
       "    <tr>\n",
       "      <th>0</th>\n",
       "      <td>sales</td>\n",
       "      <td>4140</td>\n",
       "    </tr>\n",
       "    <tr>\n",
       "      <th>1</th>\n",
       "      <td>technical</td>\n",
       "      <td>2720</td>\n",
       "    </tr>\n",
       "    <tr>\n",
       "      <th>2</th>\n",
       "      <td>support</td>\n",
       "      <td>2229</td>\n",
       "    </tr>\n",
       "    <tr>\n",
       "      <th>3</th>\n",
       "      <td>IT</td>\n",
       "      <td>1227</td>\n",
       "    </tr>\n",
       "    <tr>\n",
       "      <th>4</th>\n",
       "      <td>product_mng</td>\n",
       "      <td>902</td>\n",
       "    </tr>\n",
       "    <tr>\n",
       "      <th>5</th>\n",
       "      <td>marketing</td>\n",
       "      <td>858</td>\n",
       "    </tr>\n",
       "    <tr>\n",
       "      <th>6</th>\n",
       "      <td>RandD</td>\n",
       "      <td>787</td>\n",
       "    </tr>\n",
       "    <tr>\n",
       "      <th>7</th>\n",
       "      <td>accounting</td>\n",
       "      <td>767</td>\n",
       "    </tr>\n",
       "    <tr>\n",
       "      <th>8</th>\n",
       "      <td>hr</td>\n",
       "      <td>739</td>\n",
       "    </tr>\n",
       "    <tr>\n",
       "      <th>9</th>\n",
       "      <td>management</td>\n",
       "      <td>630</td>\n",
       "    </tr>\n",
       "  </tbody>\n",
       "</table>\n",
       "</div>"
      ],
      "text/plain": [
       "    department  count\n",
       "0        sales   4140\n",
       "1    technical   2720\n",
       "2      support   2229\n",
       "3           IT   1227\n",
       "4  product_mng    902\n",
       "5    marketing    858\n",
       "6        RandD    787\n",
       "7   accounting    767\n",
       "8           hr    739\n",
       "9   management    630"
      ]
     },
     "execution_count": 22,
     "metadata": {},
     "output_type": "execute_result"
    }
   ],
   "source": [
    "department = pd.DataFrame(data=df['department'].value_counts().index, columns=['department'])\n",
    "count = pd.DataFrame(data=df['department'].value_counts().values, columns=['count'])\n",
    "pd.merge(department, count, left_index=True, right_index=True)"
   ]
  },
  {
   "cell_type": "code",
   "execution_count": null,
   "metadata": {},
   "outputs": [],
   "source": []
  },
  {
   "cell_type": "markdown",
   "metadata": {},
   "source": [
    "### 7. Показать распределение сотрудников по зарплатам."
   ]
  },
  {
   "cell_type": "code",
   "execution_count": 152,
   "metadata": {},
   "outputs": [
    {
     "data": {
      "text/plain": [
       "Text(0, 0.5, 'Count of employees')"
      ]
     },
     "execution_count": 152,
     "metadata": {},
     "output_type": "execute_result"
    },
    {
     "data": {
      "image/png": "[encoded data removed]",
      "text/plain": [
       "<Figure size 360x360 with 1 Axes>"
      ]
     },
     "metadata": {
      "needs_background": "light"
     },
     "output_type": "display_data"
    }
   ],
   "source": [
    "rcParams['figure.figsize'] = 5,5\n",
    "\n",
    "salary = df[['salary', 'department']].groupby(['salary']).count()\n",
    "salary.rename(columns={'department': 'count'}, inplace=True)\n",
    "\n",
    "ax = salary.plot(kind='bar', title='Distribution of employees by salary')\n",
    "\n",
    "ax.set_xlabel('Salary')\n",
    "ax.set_ylabel('Count of employees')"
   ]
  },
  {
   "cell_type": "markdown",
   "metadata": {},
   "source": [
    "### Вывод:\n",
    "\n",
    "Подавляющее большинство сотрудников имеет низкий и средний уровень оплаты. Но чаще встречается низкий уровень оплаты. Что вполне нормально, поскольку высокий уровень оплаты, скорее всего, у руководителей, количество которых сравнительно невелико."
   ]
  },
  {
   "cell_type": "markdown",
   "metadata": {},
   "source": [
    "### 8. Показать распределение сотрудников по зарплатам совместно с департаментами."
   ]
  },
  {
   "cell_type": "code",
   "execution_count": 151,
   "metadata": {},
   "outputs": [
    {
     "data": {
      "text/plain": [
       "Text(0, 0.5, 'Count of employees')"
      ]
     },
     "execution_count": 151,
     "metadata": {},
     "output_type": "execute_result"
    },
    {
     "data": {
      "image/png": "[encoded data removed]",
      "text/plain": [
       "<Figure size 1080x360 with 1 Axes>"
      ]
     },
     "metadata": {
      "needs_background": "light"
     },
     "output_type": "display_data"
    }
   ],
   "source": [
    "rcParams['figure.figsize'] = 15,5\n",
    "\n",
    "salary_by_department = df[['salary', 'department', 'left']].groupby(['department', 'salary']).count().reset_index()\n",
    "\n",
    "salary_by_department = salary_by_department.pivot_table(index='department', columns='salary', values='left')\n",
    "\n",
    "ax = salary_by_department.plot(kind='bar', \n",
    "                          title='Distribution of employees by department and salary')\n",
    "\n",
    "ax.set_xlabel('Departments')\n",
    "ax.set_ylabel('Count of employees')"
   ]
  },
  {
   "cell_type": "markdown",
   "metadata": {},
   "source": [
    "### Вывод:\n",
    "\n",
    "Самые высокие зарплаты у сотрудников из отделов management и sales. При этом количество сотрудников с высокой оплатой в отделе sales не велико, подавляющее большинство сотрудников данного отдела имеют средний и низкий уровень оплаты. Видимо уровень оплаты зависит от принесенной компании прибыли и некоторые сотрудники умеют продавать значительно лучше большинства. Большинство сотрудников отдела продаж имеют низкую оплату.\n",
    "\n",
    "\n",
    "Количество высокооплачиваемых сотрудников из отдела management состовляет приблизительно 1/3 от общего числа сотрудников отдела. Вероятно это управляющие верхнего уровня.\n",
    "\n",
    "\n",
    "Также довольно много высокооплачиваемых сотрудников в отделе technical. При этом их количество от общего числа сотрудников данного отдела низкое. Возможно это тоже руководители отдела и технические специалисты выского уровня."
   ]
  },
  {
   "cell_type": "code",
   "execution_count": null,
   "metadata": {},
   "outputs": [],
   "source": []
  },
  {
   "cell_type": "code",
   "execution_count": null,
   "metadata": {},
   "outputs": [],
   "source": []
  },
  {
   "cell_type": "markdown",
   "metadata": {},
   "source": [
    "### 9. Сколько сотрудников покинули компанию."
   ]
  },
  {
   "cell_type": "code",
   "execution_count": 99,
   "metadata": {},
   "outputs": [
    {
     "name": "stdout",
     "output_type": "stream",
     "text": [
      "Количество уволенных сотрудников = 3571\n"
     ]
    }
   ],
   "source": [
    "count = df.left.value_counts().loc[df.left.value_counts().index==1]\n",
    "print(f'Количество уволенных сотрудников = {int(count.values)}')"
   ]
  },
  {
   "cell_type": "markdown",
   "metadata": {},
   "source": [
    "### 10. Проверить несколько гипотез для данных, чтобы понять почему сотрудники покидают компанию."
   ]
  },
  {
   "cell_type": "code",
   "execution_count": 340,
   "metadata": {},
   "outputs": [],
   "source": [
    "from scipy import stats as st"
   ]
  },
  {
   "cell_type": "markdown",
   "metadata": {},
   "source": [
    "#### Гипотеза 1: Уволенные сотрудники не удовлетворены работой в компании.\n",
    "\n",
    "Сформулируем нулевую и альтернативную гипотезы:\n",
    "\n",
    "    H0: средняя удовлетворенность уволенных сотрудников работой в компании = 0.75\n",
    "    H1: средняя удовлетворенность уволенных сотрудников работой в компании составляет менее 0.75\n",
    "    \n",
    "Поскольку в данном тесте цена ошибки не велика, зададим пороговый уровень статистической значимости alpha = 0.05.\n",
    "\n",
    "Будем проводить одновыборочный тест, поскольку анализируем одну выборку и значение по выборке будет сравниваться с константой.\n",
    "\n",
    "Будем проводить односторонний тест, нас интересует отклонение среднего значения удовлетворенности сотрудников работой в компании только в одну сторону. Т.е., если среднее значение удовлетворенности сотрудников работой в компании составляет менее 0.75, то нулевая гипотеза опровергается, что подтверждает гипотезу - сотрудники не удовлетворены работой в компании."
   ]
  },
  {
   "cell_type": "code",
   "execution_count": 339,
   "metadata": {},
   "outputs": [
    {
     "name": "stdout",
     "output_type": "stream",
     "text": [
      "Ttest_1sampResult(statistic=-70.16570217301656, pvalue=0.0)\n",
      "Отвергаем нулевую гипотезу. Средняя удовлетворенность уволенных сотрудников работой в компании меньше 0,75\n"
     ]
    }
   ],
   "source": [
    "# Отберем из исходных данных информацию только об уровне удовлетворенности уволившихся сотрудниках и поместим в df_\n",
    "df_ = df.loc[df.left == 1][['satisfaction_level', 'left']]\n",
    "\n",
    "alpha = 0.05\n",
    "result = st.ttest_1samp(df_['satisfaction_level'], 0.75)\n",
    "print(result)\n",
    "\n",
    "if (result.statistic < 0) & (result.pvalue / 2 < alpha):\n",
    "    print('Отвергаем нулевую гипотезу. Средняя удовлетворенность уволенных сотрудников работой в компании меньше 0,75')\n",
    "else:\n",
    "    print('Не отвергаем нулевую нулевую гипотезу. Уволенные сотрудники были удовлетворены работой в компании')"
   ]
  },
  {
   "cell_type": "markdown",
   "metadata": {},
   "source": [
    "#### Гипотеза 2: Уволенные сотрудники не получали повышения за последние 5 лет.\n",
    "\n",
    "Сформулируем нулевую и альтернативную гипотезы:\n",
    "\n",
    "    H0: средняя повышаемость среди уволенных сотрудников за последние 5 лет = 0.5 (т.е. половина уволенных сотрудников за последние 5 лет получала повышение)\n",
    "    H1: средняя повышаемость среди уволенных сотрудников за последние 5 лет менее 0.5\n",
    "    \n",
    "Поскольку в данном тесте цена ошибки не велика, зададим пороговый уровень статистической значимости alpha = 0.05.\n",
    "\n",
    "Будем проводить одновыборочный тест, поскольку анализируем одну выборку и значение по выборке будет сравниваться с константой.\n",
    "\n",
    "Будем проводить односторонний тест, нас интересует отклонение среднего значения повышаемости сотрудников только в одну сторону. Т.е., если среднее значение повышаемости сотрудников составляет менее 0.5, то нулевая гипотеза опровергается, что подтверждает гипотезу - уволенные сотрудники не получали повышения за последние 5 лет."
   ]
  },
  {
   "cell_type": "code",
   "execution_count": 341,
   "metadata": {},
   "outputs": [
    {
     "name": "stdout",
     "output_type": "stream",
     "text": [
      "Ttest_1sampResult(statistic=-406.28844481074714, pvalue=0.0)\n",
      "Отвергаем нулевую гипотезу. Средняя повышаемость среди уволенных сотрудников за последние 5 лет менее 0.5\n"
     ]
    }
   ],
   "source": [
    "# Отберем из исходных данных информацию только о повышении за последние 5 лет уволившихся сотрудниках и поместим в df_\n",
    "df_ = df.loc[df.left == 1][['promotion_last_5years', 'left']]\n",
    "\n",
    "alpha = 0.05\n",
    "result = st.ttest_1samp(df_['promotion_last_5years'], 0.5)\n",
    "print(result)\n",
    "\n",
    "if (result.statistic < 0) & (result.pvalue / 2 < alpha):\n",
    "    print('Отвергаем нулевую гипотезу. Средняя повышаемость среди уволенных сотрудников за последние 5 лет менее 0.5')\n",
    "else:\n",
    "    print('Не отвергаем нулевую нулевую гипотезу. Половина из уволенных сотрудников за последние 5 лет получала поавшение')"
   ]
  },
  {
   "cell_type": "markdown",
   "metadata": {},
   "source": [
    "#### Гипотеза 3: Уволенные сотрудники имели низкий уровень оплаты.\n",
    "\n",
    "Сформулируем нулевую и альтернативную гипотезы:\n",
    "\n",
    "    H0: средний коэффициент оплаты среди уволенных сотрудников = 0.5\n",
    "    H1: средняя коэффициент оплаты среди уволенных сотрудников менее 0.5\n",
    "    \n",
    "Поскольку в данном тесте цена ошибки не велика, зададим пороговый уровень статистической значимости alpha = 0.05.\n",
    "\n",
    "Будем проводить одновыборочный тест, поскольку анализируем одну выборку и значение по выборке будет сравниваться с константой.\n",
    "\n",
    "Будем проводить односторонний тест, нас интересует отклонение среднего значения коэффициента оплаты среди уволенных сотрудников только в одну сторону. Т.е., если среднее значение коэффициента оплаты составляет менее 0.5, то нулевая гипотеза опровергается, что подтверждает гипотезу - уволенные сотрудники имели низкий уровень оплаты."
   ]
  },
  {
   "cell_type": "code",
   "execution_count": 354,
   "metadata": {},
   "outputs": [
    {
     "data": {
      "text/html": [
       "<div>\n",
       "<style scoped>\n",
       "    .dataframe tbody tr th:only-of-type {\n",
       "        vertical-align: middle;\n",
       "    }\n",
       "\n",
       "    .dataframe tbody tr th {\n",
       "        vertical-align: top;\n",
       "    }\n",
       "\n",
       "    .dataframe thead th {\n",
       "        text-align: right;\n",
       "    }\n",
       "</style>\n",
       "<table border=\"1\" class=\"dataframe\">\n",
       "  <thead>\n",
       "    <tr style=\"text-align: right;\">\n",
       "      <th></th>\n",
       "      <th>salary</th>\n",
       "      <th>left</th>\n",
       "      <th>salary_koeff</th>\n",
       "    </tr>\n",
       "  </thead>\n",
       "  <tbody>\n",
       "    <tr>\n",
       "      <th>0</th>\n",
       "      <td>low</td>\n",
       "      <td>1</td>\n",
       "      <td>0.25</td>\n",
       "    </tr>\n",
       "    <tr>\n",
       "      <th>1</th>\n",
       "      <td>medium</td>\n",
       "      <td>1</td>\n",
       "      <td>0.50</td>\n",
       "    </tr>\n",
       "    <tr>\n",
       "      <th>2</th>\n",
       "      <td>medium</td>\n",
       "      <td>1</td>\n",
       "      <td>0.50</td>\n",
       "    </tr>\n",
       "    <tr>\n",
       "      <th>3</th>\n",
       "      <td>low</td>\n",
       "      <td>1</td>\n",
       "      <td>0.25</td>\n",
       "    </tr>\n",
       "    <tr>\n",
       "      <th>4</th>\n",
       "      <td>low</td>\n",
       "      <td>1</td>\n",
       "      <td>0.25</td>\n",
       "    </tr>\n",
       "  </tbody>\n",
       "</table>\n",
       "</div>"
      ],
      "text/plain": [
       "   salary  left  salary_koeff\n",
       "0     low     1          0.25\n",
       "1  medium     1          0.50\n",
       "2  medium     1          0.50\n",
       "3     low     1          0.25\n",
       "4     low     1          0.25"
      ]
     },
     "execution_count": 354,
     "metadata": {},
     "output_type": "execute_result"
    }
   ],
   "source": [
    "def salary_koeff (param):\n",
    "    if param == 'high':\n",
    "        return 1\n",
    "    if param == 'medium':\n",
    "        return 0.5\n",
    "    if param == 'low':\n",
    "        return 0.25\n",
    "    \n",
    "# Отберем из исходных данных информацию только о уровне оплаты уволившихся сотрудниках и поместим в df_\n",
    "df_ = df.loc[df.left == 1][['salary', 'left']]\n",
    "\n",
    "# Добавим в df_ столбец salary_koeff с числовым коэффициентом уровня оплаты\n",
    "df_['salary_koeff'] = df_['salary'].apply(salary_koeff)\n",
    "df_.head()"
   ]
  },
  {
   "cell_type": "code",
   "execution_count": 355,
   "metadata": {},
   "outputs": [
    {
     "name": "stdout",
     "output_type": "stream",
     "text": [
      "Ttest_1sampResult(statistic=-54.22532053877032, pvalue=0.0)\n",
      "Отвергаем нулевую гипотезу. Коэффициент оплаты среди уволенных сотрудников менее 0.5\n"
     ]
    }
   ],
   "source": [
    "alpha = 0.05\n",
    "result = st.ttest_1samp(df_['salary_koeff'], 0.5)\n",
    "print(result)\n",
    "\n",
    "if (result.statistic < 0) & (result.pvalue / 2 < alpha):\n",
    "    print('Отвергаем нулевую гипотезу. Коэффициент оплаты среди уволенных сотрудников менее 0.5')\n",
    "else:\n",
    "    print('Не отвергаем нулевую нулевую гипотезу. Коэффициент оплаты среди уволенных сотрудников >= 0.5')"
   ]
  }
 ],
 "metadata": {
  "kernelspec": {
   "display_name": "Python 3",
   "language": "python",
   "name": "python3"
  },
  "language_info": {
   "codemirror_mode": {
    "name": "ipython",
    "version": 3
   },
   "file_extension": ".py",
   "mimetype": "text/x-python",
   "name": "python",
   "nbconvert_exporter": "python",
   "pygments_lexer": "ipython3",
   "version": "3.8.3"
  }
 },
 "nbformat": 4,
 "nbformat_minor": 4
}
