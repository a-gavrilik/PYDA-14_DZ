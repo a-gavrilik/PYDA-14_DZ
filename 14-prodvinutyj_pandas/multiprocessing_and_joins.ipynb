{
 "cells": [
  {
   "cell_type": "markdown",
   "metadata": {},
   "source": [
    "# Выполнение в несколько потоков"
   ]
  },
  {
   "cell_type": "code",
   "execution_count": 1,
   "metadata": {},
   "outputs": [],
   "source": [
    "from multiprocessing import Pool, current_process"
   ]
  },
  {
   "cell_type": "markdown",
   "metadata": {},
   "source": [
    "### Пример работы с Pool"
   ]
  },
  {
   "cell_type": "code",
   "execution_count": 2,
   "metadata": {},
   "outputs": [],
   "source": [
    "import time"
   ]
  },
  {
   "cell_type": "code",
   "execution_count": 3,
   "metadata": {},
   "outputs": [],
   "source": [
    "def process_step(step):\n",
    "    print('Начинаю шаг {}, worker {}'.format(step, current_process()))\n",
    "    time.sleep(1)\n",
    "    print('Закончил шаг {}'.format(step))"
   ]
  },
  {
   "cell_type": "code",
   "execution_count": 4,
   "metadata": {},
   "outputs": [
    {
     "name": "stdout",
     "output_type": "stream",
     "text": [
      "Начинаю шаг 0, worker <_MainProcess(MainProcess, started)>\n",
      "Закончил шаг 0\n",
      "Начинаю шаг 1, worker <_MainProcess(MainProcess, started)>\n",
      "Закончил шаг 1\n",
      "Начинаю шаг 2, worker <_MainProcess(MainProcess, started)>\n",
      "Закончил шаг 2\n",
      "Начинаю шаг 3, worker <_MainProcess(MainProcess, started)>\n",
      "Закончил шаг 3\n",
      "Начинаю шаг 4, worker <_MainProcess(MainProcess, started)>\n",
      "Закончил шаг 4\n",
      "Начинаю шаг 5, worker <_MainProcess(MainProcess, started)>\n",
      "Закончил шаг 5\n",
      "Начинаю шаг 6, worker <_MainProcess(MainProcess, started)>\n",
      "Закончил шаг 6\n",
      "Начинаю шаг 7, worker <_MainProcess(MainProcess, started)>\n",
      "Закончил шаг 7\n",
      "Начинаю шаг 8, worker <_MainProcess(MainProcess, started)>\n",
      "Закончил шаг 8\n",
      "Начинаю шаг 9, worker <_MainProcess(MainProcess, started)>\n",
      "Закончил шаг 9\n",
      "CPU times: user 11.9 ms, sys: 4.55 ms, total: 16.4 ms\n",
      "Wall time: 10 s\n"
     ]
    }
   ],
   "source": [
    "%%time\n",
    "for step in range(10):\n",
    "    process_step(step)"
   ]
  },
  {
   "cell_type": "code",
   "execution_count": 5,
   "metadata": {
    "scrolled": true
   },
   "outputs": [
    {
     "name": "stdout",
     "output_type": "stream",
     "text": [
      "Начинаю шаг 1, worker <ForkProcess(ForkPoolWorker-2, started daemon)>\n",
      "Начинаю шаг 3, worker <ForkProcess(ForkPoolWorker-4, started daemon)>\n",
      "Начинаю шаг 4, worker <ForkProcess(ForkPoolWorker-5, started daemon)>\n",
      "Начинаю шаг 0, worker <ForkProcess(ForkPoolWorker-1, started daemon)>\n",
      "Начинаю шаг 2, worker <ForkProcess(ForkPoolWorker-3, started daemon)>\n",
      "Начинаю шаг 5, worker <ForkProcess(ForkPoolWorker-6, started daemon)>\n",
      "Начинаю шаг 6, worker <ForkProcess(ForkPoolWorker-7, started daemon)>\n",
      "Начинаю шаг 7, worker <ForkProcess(ForkPoolWorker-8, started daemon)>\n",
      "Начинаю шаг 9, worker <ForkProcess(ForkPoolWorker-10, started daemon)>\n",
      "Начинаю шаг 8, worker <ForkProcess(ForkPoolWorker-9, started daemon)>\n",
      "Закончил шаг 3\n",
      "Закончил шаг 1\n",
      "Закончил шаг 4\n",
      "Закончил шаг 0\n",
      "Закончил шаг 6\n",
      "Закончил шаг 2\n",
      "Закончил шаг 5\n",
      "Закончил шаг 7\n",
      "Закончил шаг 9\n",
      "Закончил шаг 8\n",
      "CPU times: user 28.5 ms, sys: 40.1 ms, total: 68.6 ms\n",
      "Wall time: 1.21 s\n"
     ]
    }
   ],
   "source": [
    "%%time\n",
    "with Pool(processes=10) as p:\n",
    "    p.map(process_step, range(10))"
   ]
  },
  {
   "cell_type": "markdown",
   "metadata": {},
   "source": [
    "### Стемминг через Pool"
   ]
  },
  {
   "cell_type": "code",
   "execution_count": 6,
   "metadata": {},
   "outputs": [],
   "source": [
    "import time\n",
    "from nltk.stem.snowball import SnowballStemmer"
   ]
  },
  {
   "cell_type": "code",
   "execution_count": 7,
   "metadata": {},
   "outputs": [],
   "source": [
    "def process_line(line):\n",
    "    keyword, shows = line.strip().split(',')\n",
    "    return [stemmer.stem(word) for word in keyword.split(' ')]"
   ]
  },
  {
   "cell_type": "code",
   "execution_count": 8,
   "metadata": {
    "scrolled": false
   },
   "outputs": [
    {
     "name": "stdout",
     "output_type": "stream",
     "text": [
      "CPU times: user 15.5 s, sys: 158 ms, total: 15.7 s\n",
      "Wall time: 17.2 s\n"
     ]
    },
    {
     "data": {
      "text/plain": [
       "[['keyword'],\n",
       " ['вк'],\n",
       " ['одноклассник'],\n",
       " ['порн'],\n",
       " ['ютуб'],\n",
       " ['вконтакт'],\n",
       " ['одноклассник', 'мо', 'страниц'],\n",
       " ['майл'],\n",
       " ['авит'],\n",
       " ['переводчик']]"
      ]
     },
     "execution_count": 8,
     "metadata": {},
     "output_type": "execute_result"
    }
   ],
   "source": [
    "%%time\n",
    "stemmer = SnowballStemmer(\"russian\")\n",
    "result = []\n",
    "\n",
    "with open('keywords.csv') as f:\n",
    "    result = [process_line(line) for line in f]\n",
    "        \n",
    "result[:10]"
   ]
  },
  {
   "cell_type": "code",
   "execution_count": 9,
   "metadata": {
    "scrolled": false
   },
   "outputs": [
    {
     "name": "stdout",
     "output_type": "stream",
     "text": [
      "CPU times: user 298 ms, sys: 125 ms, total: 423 ms\n",
      "Wall time: 11.7 s\n"
     ]
    },
    {
     "data": {
      "text/plain": [
       "[['keyword'],\n",
       " ['вк'],\n",
       " ['одноклассник'],\n",
       " ['порн'],\n",
       " ['ютуб'],\n",
       " ['вконтакт'],\n",
       " ['одноклассник', 'мо', 'страниц'],\n",
       " ['майл'],\n",
       " ['авит'],\n",
       " ['переводчик']]"
      ]
     },
     "execution_count": 9,
     "metadata": {},
     "output_type": "execute_result"
    }
   ],
   "source": [
    "%%time\n",
    "f = open('keywords.csv')\n",
    "stemmer = SnowballStemmer(\"russian\")\n",
    "\n",
    "with Pool(5) as p:\n",
    "    result = p.map(process_line, f)\n",
    "    \n",
    "result[:10]"
   ]
  },
  {
   "cell_type": "markdown",
   "metadata": {},
   "source": [
    "# Сложные объединения\n",
    "Необходимо объединить таблицы left_table и right_table с учетом условий:\n",
    "- если числовое значение из right_table укладывается в интервал из left_table, то добавляем столбец из right_table\n",
    "- если значение из right_table вне интервала из left_table, но меньше 200, то подставить 0\n",
    "- если значение из right_table больше 200 или нет соответствия, то исключить строчку из результата полностью\n",
    "- таблица right_table влазит в RAM, левая - нет"
   ]
  },
  {
   "cell_type": "code",
   "execution_count": 10,
   "metadata": {},
   "outputs": [],
   "source": [
    "left_table = [\n",
    "    ['a', 10, 20],\n",
    "    ['b', 30, 40],\n",
    "    ['c', 50, 60],\n",
    "]"
   ]
  },
  {
   "cell_type": "code",
   "execution_count": 11,
   "metadata": {},
   "outputs": [],
   "source": [
    "right_table = [\n",
    "    ['a', 15],\n",
    "    ['b', 100],\n",
    "    ['c', 300],\n",
    "]"
   ]
  },
  {
   "cell_type": "code",
   "execution_count": 12,
   "metadata": {},
   "outputs": [
    {
     "data": {
      "text/plain": [
       "{'a': 15, 'b': 100, 'c': 300}"
      ]
     },
     "execution_count": 12,
     "metadata": {},
     "output_type": "execute_result"
    }
   ],
   "source": [
    "right_dict = {rec[0]: rec[1] for rec in right_table}\n",
    "right_dict"
   ]
  },
  {
   "cell_type": "code",
   "execution_count": 13,
   "metadata": {},
   "outputs": [],
   "source": [
    "def apply_rules(left_table_line):\n",
    "    key, left_border, right_border = left_table_line\n",
    "    \n",
    "    # условие 3 (если есть соответствие)\n",
    "    if key in right_dict:\n",
    "        value_from_right_table = right_dict[key]\n",
    "        \n",
    "        # условие 3 (если значение < 200)\n",
    "        if value_from_right_table < 200:\n",
    "            if left_border < value_from_right_table < right_border:\n",
    "                return value_from_right_table\n",
    "            else:\n",
    "                return 0"
   ]
  },
  {
   "cell_type": "code",
   "execution_count": 14,
   "metadata": {
    "scrolled": false
   },
   "outputs": [
    {
     "name": "stdout",
     "output_type": "stream",
     "text": [
      "['a', 10, 20, 15]\n",
      "['b', 30, 40, 0]\n"
     ]
    }
   ],
   "source": [
    "for line in left_table:\n",
    "    right_value = apply_rules(line)\n",
    "    if right_value is not None:\n",
    "        line.append(right_value)\n",
    "        print(line)"
   ]
  }
 ],
 "metadata": {
  "kernelspec": {
   "display_name": "Python 3",
   "language": "python",
   "name": "python3"
  },
  "language_info": {
   "codemirror_mode": {
    "name": "ipython",
    "version": 3
   },
   "file_extension": ".py",
   "mimetype": "text/x-python",
   "name": "python",
   "nbconvert_exporter": "python",
   "pygments_lexer": "ipython3",
   "version": "3.7.0"
  }
 },
 "nbformat": 4,
 "nbformat_minor": 2
}
